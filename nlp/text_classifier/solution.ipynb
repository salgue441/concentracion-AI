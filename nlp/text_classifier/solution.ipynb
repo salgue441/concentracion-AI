{
 "cells": [
  {
   "cell_type": "markdown",
   "metadata": {},
   "source": [
    "# Text Classification with RNNs on AG_NEWS Dataset\n",
    "\n",
    "## 👥 Team Members\n",
    "\n",
    "- [Carlos Salguero](https://github.com/salgue441)\n",
    "- [Diego Perdomo](https://github.com/DiegoPerdomoS)\n",
    "- [Luis Arturo](https://github.com/00sen)\n",
    "- [José Riosmena](https://github.com/Riosmena)\n",
    "- [Dafne](https://github.com/Dafne224)\n",
    "\n",
    "## 📋 Project Overview\n",
    "\n",
    "This notebook implements a text classification system using Recurrent Neural Networks (RNNs) on the AG_NEWS dataset.\n",
    "\n",
    "### Dataset Description\n",
    "\n",
    "The AG_NEWS dataset consists of news articles collected from more than 2000 news sources. Each article is categorized into one of four classes:\n",
    "\n",
    "1. World\n",
    "2. Sports\n",
    "3. Business\n",
    "4. Science / Technology\n",
    "\n",
    "### 🎯 Technical Objectives\n",
    "\n",
    "- **Data Processing**: implement efficient text preprocessing and tokenization.\n",
    "- **Model Architecture**: build a robust RNN-based classification model.\n",
    "- **Training Pipeline**: develop an effective training loop with performance monitoring.\n",
    "- **Evaluation**: Implement comprehensive model evaluation metrics.\n",
    "\n",
    "## 📊 Evaluation Criteria\n",
    "\n",
    "| Component            | Weight | Success Criteria                                                      |\n",
    "| -------------------- | ------ | --------------------------------------------------------------------- |\n",
    "| Setup & Organization | 10 %   | Proper library implementation and code structure                      |\n",
    "| Code Quality         | 30 %   | Clear documentation, efficient implementation, proper use of markdown |\n",
    "| Model Implementation | 20 %   | Correct RNN architecture and forward pass                             |\n",
    "| Training Functions   | 10 %   | Effective training loop with proper optimization                      |\n",
    "| Accuracy Metrics     | 10 %   | Comprehensive evaluation metrics                                      |\n",
    "| Text Sampling        | 10 %   | Functional classification of new text                                 |\n",
    "| Confusion Matrix     | 10 %   | Clear visualization and analysis                                      |\n"
   ]
  },
  {
   "cell_type": "markdown",
   "metadata": {},
   "source": [
    "## 🛠️ Requied Libraries\n"
   ]
  },
  {
   "cell_type": "code",
   "execution_count": 77,
   "metadata": {},
   "outputs": [],
   "source": [
    "from typing import List, Tuple, Dict\n",
    "from collections import Counter\n",
    "import re\n",
    "\n",
    "import torch\n",
    "import torch.nn as nn\n",
    "import torch.nn.functional as F\n",
    "from torch.utils.data import Dataset, DataLoader, random_split\n",
    "import numpy as np\n",
    "import pandas as pd\n",
    "import matplotlib.pyplot as plt\n",
    "import seaborn as sns\n",
    "from tqdm.notebook import tqdm\n",
    "from sklearn.metrics import confusion_matrix, classification_report, f1_score"
   ]
  },
  {
   "cell_type": "code",
   "execution_count": 78,
   "metadata": {},
   "outputs": [
    {
     "name": "stdout",
     "output_type": "stream",
     "text": [
      "PyTorch version: 2.5.1+cu124\n"
     ]
    }
   ],
   "source": [
    "print(f\"PyTorch version: {torch.__version__}\")"
   ]
  },
  {
   "cell_type": "code",
   "execution_count": 79,
   "metadata": {},
   "outputs": [
    {
     "name": "stdout",
     "output_type": "stream",
     "text": [
      "Using device: cuda\n"
     ]
    }
   ],
   "source": [
    "device = torch.device(\"cuda\" if torch.cuda.is_available() else \"cpu\")\n",
    "torch.manual_seed(42)\n",
    "\n",
    "print(f\"Using device: {device}\")"
   ]
  },
  {
   "cell_type": "markdown",
   "metadata": {},
   "source": [
    "## News Dataset for Text Classification\n"
   ]
  },
  {
   "cell_type": "code",
   "execution_count": 80,
   "metadata": {},
   "outputs": [],
   "source": [
    "class NewsDataset(Dataset):\n",
    "    \"\"\"\n",
    "    Custom dataset class for handling AG_NEWS data.\n",
    "\n",
    "    This class manages text preprocessing, vocabulary building, and tokenization.\n",
    "\n",
    "    Attributes:\n",
    "        text (List[str]): List of input text documents.\n",
    "        labels (List[int]): Corresponding classification labels.\n",
    "        max_length (int): Maximum sequence length for padding / truncation.\n",
    "        vocab (Dict[str, int]): Word-to-index mapping dictionary.\n",
    "    \"\"\"\n",
    "\n",
    "    def __init__(self, texts: List[str], labels: List[int], vocab=None, max_length=100):\n",
    "        self.texts = texts\n",
    "        self.labels = labels\n",
    "        self.max_length = max_length\n",
    "\n",
    "        if vocab is None:\n",
    "            self.vocab = self._build_vocab()\n",
    "\n",
    "        else:\n",
    "            self.vocab = vocab\n",
    "\n",
    "    def _build_vocab(self, min_freq: int = 5):\n",
    "        \"\"\"\n",
    "        Build a vocabulary dictionary with word frequencies.\n",
    "\n",
    "        Args:\n",
    "            min_freq (int): Minimum frequency threshold for including a word in the vocabulary.\n",
    "\n",
    "        Returns:\n",
    "            Dict[str, int]: Word-to-index mapping dictionary.\n",
    "        \"\"\"\n",
    "\n",
    "        word_counts = Counter()\n",
    "        for text in self.texts:\n",
    "            words = self._tokenize(text)\n",
    "            word_counts.update(words)\n",
    "\n",
    "        vocab = {\"<PAD>\": 0, \"<UNK>\": 1}\n",
    "        for word, count in word_counts.items():\n",
    "            if count >= min_freq:\n",
    "                vocab[word] = len(vocab)\n",
    "\n",
    "        return vocab\n",
    "\n",
    "    def _tokenize(self, text: str) -> List[str]:\n",
    "        \"\"\"\n",
    "        Tokenize input text into words using a simple whitespace tokenizer.\n",
    "\n",
    "        Args:\n",
    "            text (str): Input text string.\n",
    "\n",
    "        Returns:\n",
    "            List[str]: List of words in the input text.\n",
    "        \"\"\"\n",
    "\n",
    "        words = re.findall(r\"\\b\\w+\\b\", text.lower())\n",
    "        return words\n",
    "\n",
    "    def _convert_to_ids(self, tokens: List[str]) -> List[int]:\n",
    "        \"\"\"\n",
    "        Convert a list of tokens to a list of corresponding word indices.\n",
    "\n",
    "        Args:\n",
    "            tokens (List[str]): List of input words.\n",
    "\n",
    "        Returns:\n",
    "            List[int]: List of word indices.\n",
    "        \"\"\"\n",
    "\n",
    "        tokens = tokens[: self.max_length]\n",
    "        ids = [self.vocab.get(token, self.vocab[\"<UNK>\"]) for token in tokens]\n",
    "\n",
    "        if len(ids) < self.max_length:\n",
    "            ids += [self.vocab[\"<PAD>\"]] * (self.max_length - len(ids))\n",
    "\n",
    "        return ids\n",
    "\n",
    "    def __len__(self):\n",
    "        \"\"\"\n",
    "        Compute the total number of data points in the dataset.\n",
    "\n",
    "        Returns:\n",
    "            int: Number of data points in the dataset.\n",
    "        \"\"\"\n",
    "        return len(self.texts)\n",
    "\n",
    "    def __getitem__(self, idx: int) -> Tuple[torch.Tensor, torch.Tensor]:\n",
    "        \"\"\"\n",
    "        Generate a preprocessed data sample from the dataset at the given index.\n",
    "\n",
    "        Args:\n",
    "            idx (int): Index of the data sample.\n",
    "\n",
    "        Returns:\n",
    "            Tuple[torch.Tensor, torch.Tensor]: Tuple of input and target tensors.\n",
    "        \"\"\"\n",
    "\n",
    "        text = self.texts[idx]\n",
    "        label = self.labels[idx]\n",
    "\n",
    "        tokens = self._tokenize(text)\n",
    "        ids = self._convert_to_ids(tokens)\n",
    "\n",
    "        return (\n",
    "            torch.tensor(ids, dtype=torch.long),\n",
    "            torch.tensor(label, dtype=torch.long),\n",
    "        )"
   ]
  },
  {
   "cell_type": "code",
   "execution_count": 81,
   "metadata": {},
   "outputs": [],
   "source": [
    "def load_ag_news(file_path: str) -> Tuple[List[str], List[int]]:\n",
    "    \"\"\"\n",
    "    Loads and preprocesses AG_NEWS dataset from a CSV file.\n",
    "\n",
    "    Args:\n",
    "        file_path (str): Path to the CSV file containing news data.\n",
    "\n",
    "    Returns:\n",
    "        Tuple[List[str], List[int]]: Processed texts and their labels.\n",
    "\n",
    "    Features:\n",
    "        - Handles both header and header-less CSV files.\n",
    "        - Combines title and description for full text representation.\n",
    "        - Provides error handling and data loading diagnostics.\n",
    "        - Reports label distribution statistics.\n",
    "    \"\"\"\n",
    "\n",
    "    try:\n",
    "        with open(file_path, \"r\", encoding=\"utf-8\") as f:\n",
    "            first_line = f.readline().strip()\n",
    "            has_header = first_line.startswith(\"Class Index\") or first_line.startswith(\n",
    "                \"class\"\n",
    "            )\n",
    "\n",
    "        df = pd.read_csv(\n",
    "            file_path,\n",
    "            header=0 if has_header else None,\n",
    "            names=[\"label\", \"title\", \"description\"],\n",
    "            encoding=\"utf-8\",\n",
    "        )\n",
    "\n",
    "        labels, texts = [], []\n",
    "        for idx, row in df.iterrows():\n",
    "            try:\n",
    "                label = int(str(row[\"label\"]).strip(\"\\\"' \")) - 1\n",
    "                title = str(row[\"title\"]).strip(\"\\\"' \")\n",
    "                description = str(row[\"description\"]).strip(\"\\\"' \")\n",
    "                full_text = f\"{title}. {description}\"\n",
    "\n",
    "                labels.append(label)\n",
    "                texts.append(full_text)\n",
    "            except Exception as e:\n",
    "                print(f\"Skipping row {idx} due to error: {str(e)}\")\n",
    "                continue\n",
    "\n",
    "        print(f\"Successfully loaded {len(texts)} samples from {file_path}\")\n",
    "        print(f\"Label distribution: {Counter(labels)}\")\n",
    "\n",
    "        return texts, labels\n",
    "\n",
    "    except Exception as e:\n",
    "        print(f\"Error loading file {file_path}: {str(e)}\")\n",
    "        print(\"\\nFirst few lines of the file:\")\n",
    "        with open(file_path, \"r\", encoding=\"utf-8\") as f:\n",
    "            print(f.read(500))\n",
    "\n",
    "        raise"
   ]
  },
  {
   "cell_type": "markdown",
   "metadata": {},
   "source": [
    "## Text Classifier\n"
   ]
  },
  {
   "cell_type": "code",
   "execution_count": 82,
   "metadata": {},
   "outputs": [],
   "source": [
    "class TextClassifier(nn.Module):\n",
    "    \"\"\"\n",
    "    Rnn-based text classification model using bidirectional GRU.\n",
    "\n",
    "    Architecture:\n",
    "        1. Embedding layer: converts word indices to dense vectors.\n",
    "        2. Bidirectional GRU: processes the input sequences in both directions.\n",
    "        3. Fully connected layer: maps GRU output to class labels.\n",
    "\n",
    "    Args:\n",
    "        vocab_size (int): Size of the vocabulary (number of tokens).\n",
    "        embed_size (int): Size of the word embeddings.\n",
    "        hidden_size (int): Size of the hidden units in GRU.\n",
    "        num_layers (int): Number of GRU layers.\n",
    "        num_classes (int): Number of output classes.\n",
    "        dropout (float): Dropout rate to apply between GRU layers.\n",
    "    \"\"\"\n",
    "\n",
    "    def __init__(\n",
    "        self,\n",
    "        vocab_size: int,\n",
    "        embed_size: int = 300,\n",
    "        hidden_size: int = 256,\n",
    "        num_layers: int = 2,\n",
    "        num_classes: int = 4,\n",
    "        dropout: float = 0.3,\n",
    "    ):\n",
    "        super(TextClassifier, self).__init__()\n",
    "\n",
    "        self.embedding = nn.Embedding(vocab_size, embed_size)\n",
    "        self.gru = nn.GRU(\n",
    "            embed_size,\n",
    "            hidden_size,\n",
    "            num_layers,\n",
    "            batch_first=True,\n",
    "            dropout=dropout if num_layers > 1 else 0,\n",
    "            bidirectional=True,\n",
    "        )\n",
    "\n",
    "        self.fc = nn.Linear(hidden_size * 2, num_classes)\n",
    "        self.dropout = nn.Dropout(dropout)\n",
    "\n",
    "    def forward(self, x: torch.Tensor) -> torch.Tensor:\n",
    "        \"\"\"\n",
    "        Forward pass of the classifier.\n",
    "\n",
    "        Args:\n",
    "            x (torch.Tensor): Input tensor of token indices.\n",
    "\n",
    "        Returns:\n",
    "            torch.Tensor: Output tensor of class logits.\n",
    "        \"\"\"\n",
    "\n",
    "        embedded = self.dropout(self.embedding(x))\n",
    "        output, hidden = self.gru(embedded)\n",
    "\n",
    "        hidden = torch.cat((hidden[-2, :, :], hidden[-1, :, :]), dim=1)\n",
    "        hidden = self.dropout(hidden)\n",
    "\n",
    "        return self.fc(hidden)"
   ]
  },
  {
   "cell_type": "markdown",
   "metadata": {},
   "source": [
    "## Trainer\n"
   ]
  },
  {
   "cell_type": "code",
   "execution_count": 83,
   "metadata": {},
   "outputs": [],
   "source": [
    "class Trainer:\n",
    "    \"\"\"\n",
    "    Manages the training process for the text classification model.\n",
    "\n",
    "    Features:\n",
    "        - Implements training and evaluation loops.\n",
    "        - Track metrics and learning progress.\n",
    "        - Provides early stopping mechanisms.\n",
    "        - Saves the best model state during training.\n",
    "        - Generates confusion matrices for evaluation.\n",
    "\n",
    "    Args:\n",
    "        model (nn.Module): Text classification model to train.\n",
    "        train_loader (DataLoader): Training data loader.\n",
    "        val_loader (DataLoader): Validation data loader.\n",
    "        test_loader (DataLoader): Test data loader.\n",
    "        criterion (nn.Module): Loss function for optimization.\n",
    "        lr (float): Learning rate for the optimizer.\n",
    "        device (torch.device): Device to run the training on.\n",
    "    \"\"\"\n",
    "\n",
    "    def __init__(\n",
    "        self,\n",
    "        model: nn.Module,\n",
    "        train_loader: DataLoader,\n",
    "        val_loader: DataLoader,\n",
    "        test_loader: DataLoader,\n",
    "        criterion: nn.Module = nn.CrossEntropyLoss(),\n",
    "        lr: float = 0.001,\n",
    "        device: torch.device = device,\n",
    "    ):\n",
    "        self.model = model.to(device)\n",
    "        self.train_loader = train_loader\n",
    "        self.val_loader = val_loader\n",
    "        self.test_loader = test_loader\n",
    "        self.criterion = criterion\n",
    "        self.optimizer = torch.optim.Adam(model.parameters(), lr=lr)\n",
    "        self.device = device\n",
    "        self.best_model_path = \"best_model.pt\"\n",
    "\n",
    "    def calculate_metrics(self, loader: DataLoader) -> Dict[str, float]:\n",
    "        \"\"\"\n",
    "        Calculates accuracy, F1-score (micro, macro, weighted) and per-class metrics.\n",
    "\n",
    "        Args:\n",
    "            loader (DataLoader): Data loader to evaluate the model on.\n",
    "\n",
    "        Returns:\n",
    "            Dict[str, float]: Dictionary of metric names and their values.\n",
    "        \"\"\"\n",
    "\n",
    "        self.model.eval()\n",
    "\n",
    "        all_preds, all_labels = [], []\n",
    "        total_loss: float = 0.0\n",
    "\n",
    "        with torch.no_grad():\n",
    "            for batch in tqdm(loader, desc=\"Calculating metrics\", leave=False):\n",
    "                x, y = [t.to(self.device) for t in batch]\n",
    "                output = self.model(x)\n",
    "                loss = self.criterion(output, y)\n",
    "\n",
    "                _, predicted = torch.max(output, 1)\n",
    "                all_preds.extend(predicted.cpu().numpy())\n",
    "                all_labels.extend(y.cpu().numpy())\n",
    "\n",
    "                total_loss += loss.item()\n",
    "\n",
    "        all_preds = np.array(all_preds)\n",
    "        all_labels = np.array(all_labels)\n",
    "\n",
    "        f1_micro = f1_score(all_labels, all_preds, average=\"micro\")\n",
    "        f1_macro = f1_score(all_labels, all_preds, average=\"macro\")\n",
    "        f1_weighted = f1_score(all_labels, all_preds, average=\"weighted\")\n",
    "        f1_per_class = f1_score(all_labels, all_preds, average=None)\n",
    "\n",
    "        accuracy = (all_preds == all_labels).mean()\n",
    "        report = classification_report(all_labels, all_preds, output_dict=True)\n",
    "\n",
    "        return {\n",
    "            \"loss\": total_loss / len(loader),\n",
    "            \"accuracy\": accuracy,\n",
    "            \"f1_micro\": f1_micro,\n",
    "            \"f1_macro\": f1_macro,\n",
    "            \"f1_weighted\": f1_weighted,\n",
    "            \"f1_per_class\": f1_per_class,\n",
    "            \"classification_report\": report,\n",
    "        }\n",
    "\n",
    "    def train_epoch(self) -> Tuple[float, float]:\n",
    "        \"\"\"\n",
    "        Trains the model for one epoch of the data loader.\n",
    "\n",
    "        Returns:\n",
    "            Tuple[float, float]: Average loss and accuracy for the epoch.\n",
    "        \"\"\"\n",
    "\n",
    "        self.model.train()\n",
    "        total_loss: float = 0.0\n",
    "\n",
    "        all_preds, all_labels = [], []\n",
    "        for batch in tqdm(self.train_loader, desc=\"Training\", leave=False):\n",
    "            x, y = [t.to(self.device) for t in batch]\n",
    "            self.optimizer.zero_grad()\n",
    "\n",
    "            output = self.model(x)\n",
    "            loss = self.criterion(output, y)\n",
    "            loss.backward()\n",
    "            self.optimizer.step()\n",
    "\n",
    "            total_loss += loss.item()\n",
    "            _, predicted = torch.max(output, 1)\n",
    "            all_preds.extend(predicted.cpu().numpy())\n",
    "            all_labels.extend(y.cpu().numpy())\n",
    "\n",
    "        metrics = {\n",
    "            \"loss\": total_loss / len(self.train_loader),\n",
    "            \"accuracy\": (np.array(all_preds) == np.array(all_labels)).mean(),\n",
    "            \"f1_weighted\": f1_score(all_labels, all_preds, average=\"weighted\"),\n",
    "        }\n",
    "\n",
    "        return metrics\n",
    "\n",
    "    def evaluate(self, loader: DataLoader) -> Tuple[float, float]:\n",
    "        \"\"\"\n",
    "        Evaluates the model on the given data loader.\n",
    "\n",
    "        Args:\n",
    "            loader (DataLoader): Data loader to evaluate the model on.\n",
    "\n",
    "        Returns:\n",
    "            Tuple[float, float]: Average loss and accuracy on the data loader.\n",
    "        \"\"\"\n",
    "\n",
    "        return self.calculate_metrics(loader)\n",
    "\n",
    "    def save_model(self):\n",
    "        \"\"\"\n",
    "        Saves the best model weights to a file.\n",
    "        \"\"\"\n",
    "\n",
    "        torch.save(self.model.state_dict(), self.best_model_path)\n",
    "\n",
    "    def load_model(self):\n",
    "        \"\"\"\n",
    "        Loads the best model weights from a file.\n",
    "        \"\"\"\n",
    "\n",
    "        self.model.load_state_dict(torch.load(self.best_model_path))\n",
    "\n",
    "    def train(\n",
    "        self, epochs: int, early_stopping_patience: int = 3\n",
    "    ) -> List[Dict[str, float]]:\n",
    "        \"\"\"\n",
    "        Trains the model for a fixed number of epochs.\n",
    "\n",
    "        Args:\n",
    "            epochs (int): Number of epochs to train the model.\n",
    "            early_stopping_patience (int): Number of epochs to wait before early stopping.\n",
    "\n",
    "        Returns:\n",
    "            List[Dict[str, float]]: History of training and validation metrics.\n",
    "        \"\"\"\n",
    "\n",
    "        best_val_f1, patience_counter = 0, 0\n",
    "        history = []\n",
    "\n",
    "        for epoch in range(epochs):\n",
    "            train_metrics = self.train_epoch()\n",
    "            val_metrics = self.evaluate(self.val_loader)\n",
    "\n",
    "            history.append(\n",
    "                {\n",
    "                    \"epoch\": epoch + 1,\n",
    "                    **{f\"train_{k}\": v for k, v in train_metrics.items()},\n",
    "                    **{\n",
    "                        f\"val_{k}\": v\n",
    "                        for k, v in val_metrics.items()\n",
    "                        if k not in [\"classification_report\", \"f1_per_class\"]\n",
    "                    },\n",
    "                }\n",
    "            )\n",
    "\n",
    "            print(\n",
    "                f\"Epoch {epoch + 1}/{epochs}, Train (loss: {train_metrics['loss']:.4f}, accuracy: {train_metrics['accuracy']:.4f}), \"\n",
    "                f\"Val (loss: {val_metrics['loss']:.4f}, accuracy: {val_metrics['accuracy']:.4f})\"\n",
    "            )\n",
    "\n",
    "            if val_metrics[\"f1_weighted\"] > best_val_f1:\n",
    "                best_val_f1 = val_metrics[\"f1_weighted\"]\n",
    "                self.save_model()\n",
    "                patience_counter = 0\n",
    "\n",
    "            else:\n",
    "                patience_counter += 1\n",
    "\n",
    "            if patience_counter >= early_stopping_patience:\n",
    "                print(\n",
    "                    f\"Stopping early at epoch {epoch + 1} with no improvement in validation loss.\"\n",
    "                )\n",
    "\n",
    "                break\n",
    "\n",
    "        self.load_model()\n",
    "        return history\n",
    "\n",
    "    def create_confusion_matrix(self, loader: DataLoader = None):\n",
    "        \"\"\"\n",
    "        Creates a confusion matrix for the model on the given data loader.\n",
    "\n",
    "        Args:\n",
    "            loader (DataLoader): Data loader to evaluate the model on.\n",
    "\n",
    "        Returns:\n",
    "            np.ndarray: Confusion matrix of model predictions.\n",
    "        \"\"\"\n",
    "\n",
    "        if loader is None:\n",
    "            loader = self.test_loader\n",
    "\n",
    "        self.model.eval()\n",
    "        all_preds, all_labels = [], []\n",
    "\n",
    "        with torch.no_grad():\n",
    "            for batch in loader:\n",
    "                x, y = [t.to(self.device) for t in batch]\n",
    "                output = self.model(x)\n",
    "                _, predicted = torch.max(output, 1)\n",
    "\n",
    "                all_preds.extend(predicted.cpu().numpy())\n",
    "                all_labels.extend(y.cpu().numpy())\n",
    "\n",
    "        return confusion_matrix(all_labels, all_preds)"
   ]
  },
  {
   "cell_type": "markdown",
   "metadata": {},
   "source": [
    "## Auxiliary Functions\n"
   ]
  },
  {
   "cell_type": "code",
   "execution_count": 84,
   "metadata": {},
   "outputs": [],
   "source": [
    "def plot_training_history(history):\n",
    "    \"\"\"\n",
    "    Plot training history with additional F1 score metrics.\n",
    "\n",
    "    Args:\n",
    "        history (List[Dict[str, float]]): List of training history metrics.\n",
    "    \"\"\"\n",
    "\n",
    "    metrics = [\"loss\", \"accuracy\", \"f1_weighted\"]\n",
    "    fig, axes = plt.subplots(1, 3, figsize=(20, 5))\n",
    "\n",
    "    for idx, metric in enumerate(metrics):\n",
    "        train_metric = [h[f\"train_{metric}\"] for h in history]\n",
    "        val_metric = [h[f\"val_{metric}\"] for h in history]\n",
    "\n",
    "        axes[idx].plot(\n",
    "            range(1, len(history) + 1), train_metric, \"b-\", label=f\"Training {metric}\"\n",
    "        )\n",
    "\n",
    "        axes[idx].plot(\n",
    "            range(1, len(history) + 1), val_metric, \"r-\", label=f\"Validation {metric}\"\n",
    "        )\n",
    "\n",
    "        axes[idx].set_title(f'{metric.replace(\"_\", \" \").title()} over Epochs')\n",
    "        axes[idx].set_xlabel(\"Epoch\")\n",
    "        axes[idx].set_ylabel(metric.replace(\"_\", \" \").title())\n",
    "        axes[idx].legend()\n",
    "        axes[idx].grid(True)\n",
    "\n",
    "    plt.tight_layout()\n",
    "    plt.show()"
   ]
  },
  {
   "cell_type": "code",
   "execution_count": 85,
   "metadata": {},
   "outputs": [],
   "source": [
    "def plot_confusion_matrix(cm, labels):\n",
    "    \"\"\"\n",
    "    Plots the confusion matrix as a heatmap.\n",
    "\n",
    "    Args:\n",
    "        cm (np.ndarray): Confusion matrix array.\n",
    "        labels (List[str]): List of class labels.\n",
    "    \"\"\"\n",
    "\n",
    "    plt.figure(figsize=(10, 8))\n",
    "    sns.heatmap(\n",
    "        cm, annot=True, fmt=\"d\", cmap=\"Blues\", xticklabels=labels, yticklabels=labels\n",
    "    )\n",
    "    plt.title(\"Confusion Matrix\")\n",
    "    plt.ylabel(\"True Label\")\n",
    "    plt.xlabel(\"Predicted Label\")\n",
    "    plt.tight_layout()\n",
    "    plt.show()"
   ]
  },
  {
   "cell_type": "markdown",
   "metadata": {},
   "source": [
    "## Main Execution\n"
   ]
  },
  {
   "cell_type": "markdown",
   "metadata": {},
   "source": [
    "### Data Loading from CSV Files\n",
    "\n",
    "The data for AG_NEWS dataset is stored in two CSV files: `train.csv` and `test.csv`, since there's a version error with the `torchtext` library, we will load the data using the `pandas` library.\n"
   ]
  },
  {
   "cell_type": "code",
   "execution_count": 86,
   "metadata": {},
   "outputs": [],
   "source": [
    "train_path = \"data/train.csv\"\n",
    "test_path = \"data/test.csv\""
   ]
  },
  {
   "cell_type": "code",
   "execution_count": 87,
   "metadata": {},
   "outputs": [
    {
     "name": "stdout",
     "output_type": "stream",
     "text": [
      "Successfully loaded 120000 samples from data/train.csv\n",
      "Label distribution: Counter({2: 30000, 3: 30000, 1: 30000, 0: 30000})\n"
     ]
    }
   ],
   "source": [
    "train_texts, train_labels = load_ag_news(train_path)"
   ]
  },
  {
   "cell_type": "code",
   "execution_count": 88,
   "metadata": {},
   "outputs": [
    {
     "name": "stdout",
     "output_type": "stream",
     "text": [
      "Successfully loaded 7600 samples from data/test.csv\n",
      "Label distribution: Counter({2: 1900, 3: 1900, 1: 1900, 0: 1900})\n"
     ]
    }
   ],
   "source": [
    "test_texts, test_labels = load_ag_news(test_path)"
   ]
  },
  {
   "cell_type": "markdown",
   "metadata": {},
   "source": [
    "### Datasets\n",
    "\n",
    "Creating the datasets for training and testing the model.\n"
   ]
  },
  {
   "cell_type": "code",
   "execution_count": 89,
   "metadata": {},
   "outputs": [],
   "source": [
    "train_dataset = NewsDataset(train_texts, train_labels)"
   ]
  },
  {
   "cell_type": "code",
   "execution_count": 90,
   "metadata": {},
   "outputs": [],
   "source": [
    "test_dataset = NewsDataset(test_texts, test_labels, vocab=train_dataset.vocab)"
   ]
  },
  {
   "cell_type": "markdown",
   "metadata": {},
   "source": [
    "### Data Loaders\n"
   ]
  },
  {
   "cell_type": "code",
   "execution_count": 91,
   "metadata": {},
   "outputs": [],
   "source": [
    "BATCH_SIZE = 32\n",
    "VAL_SPLIT = 0.1"
   ]
  },
  {
   "cell_type": "code",
   "execution_count": 92,
   "metadata": {},
   "outputs": [],
   "source": [
    "train_size = int((1 - VAL_SPLIT) * len(train_dataset))\n",
    "val_size = len(train_dataset) - train_size\n",
    "train_ds, val_ds = random_split(train_dataset, [train_size, val_size])"
   ]
  },
  {
   "cell_type": "code",
   "execution_count": 93,
   "metadata": {},
   "outputs": [],
   "source": [
    "train_loader = DataLoader(train_ds, batch_size=BATCH_SIZE, shuffle=True)\n",
    "val_loader = DataLoader(val_ds, batch_size=BATCH_SIZE)\n",
    "test_loader = DataLoader(test_dataset, batch_size=BATCH_SIZE)"
   ]
  },
  {
   "cell_type": "code",
   "execution_count": 94,
   "metadata": {},
   "outputs": [
    {
     "name": "stdout",
     "output_type": "stream",
     "text": [
      "Training samples: 108000\n",
      "Validation samples: 12000\n",
      "Test samples: 7600\n"
     ]
    }
   ],
   "source": [
    "print(f\"Training samples: {len(train_ds)}\")\n",
    "print(f\"Validation samples: {len(val_ds)}\")\n",
    "print(f\"Test samples: {len(test_dataset)}\")"
   ]
  },
  {
   "cell_type": "markdown",
   "metadata": {},
   "source": [
    "### Model\n"
   ]
  },
  {
   "cell_type": "markdown",
   "metadata": {},
   "source": [
    "### Model Configuration\n"
   ]
  },
  {
   "cell_type": "code",
   "execution_count": 95,
   "metadata": {},
   "outputs": [],
   "source": [
    "VOCAB_SIZE = len(train_dataset.vocab)\n",
    "EMBED_SIZE = 300\n",
    "HIDDEN_SIZE = 256\n",
    "NUM_LAYERS = 2\n",
    "NUM_CLASSES = 4\n",
    "DROPOUT = 0.3\n",
    "LEARNING_RATE = 0.001\n",
    "EPOCHS = 10\n",
    "EARLY_STOPPING = 3"
   ]
  },
  {
   "cell_type": "code",
   "execution_count": 96,
   "metadata": {},
   "outputs": [],
   "source": [
    "model = TextClassifier(\n",
    "    vocab_size=VOCAB_SIZE,\n",
    "    embed_size=EMBED_SIZE,\n",
    "    hidden_size=HIDDEN_SIZE,\n",
    "    num_layers=NUM_LAYERS,\n",
    "    num_classes=NUM_CLASSES,\n",
    "    dropout=DROPOUT,\n",
    ")"
   ]
  },
  {
   "cell_type": "code",
   "execution_count": 97,
   "metadata": {},
   "outputs": [],
   "source": [
    "trainer = Trainer(\n",
    "    model=model,\n",
    "    train_loader=train_loader,\n",
    "    val_loader=val_loader,\n",
    "    test_loader=test_loader,\n",
    "    lr=LEARNING_RATE,\n",
    ")"
   ]
  },
  {
   "cell_type": "code",
   "execution_count": 98,
   "metadata": {},
   "outputs": [
    {
     "data": {
      "application/vnd.jupyter.widget-view+json": {
       "model_id": "9aacc7de5e444224b2c00272d3d01957",
       "version_major": 2,
       "version_minor": 0
      },
      "text/plain": [
       "Training:   0%|          | 0/3375 [00:00<?, ?it/s]"
      ]
     },
     "metadata": {},
     "output_type": "display_data"
    },
    {
     "data": {
      "application/vnd.jupyter.widget-view+json": {
       "model_id": "efdbe0d6fc2b45faa220654a67c15b18",
       "version_major": 2,
       "version_minor": 0
      },
      "text/plain": [
       "Calculating metrics:   0%|          | 0/375 [00:00<?, ?it/s]"
      ]
     },
     "metadata": {},
     "output_type": "display_data"
    },
    {
     "name": "stdout",
     "output_type": "stream",
     "text": [
      "Epoch 1/10, Train (loss: 0.4340, accuracy: 0.8451), Val (loss: 0.2781, accuracy: 0.9028)\n"
     ]
    },
    {
     "data": {
      "application/vnd.jupyter.widget-view+json": {
       "model_id": "ceb11cdf79ba4b139b21e6269d722786",
       "version_major": 2,
       "version_minor": 0
      },
      "text/plain": [
       "Training:   0%|          | 0/3375 [00:00<?, ?it/s]"
      ]
     },
     "metadata": {},
     "output_type": "display_data"
    },
    {
     "data": {
      "application/vnd.jupyter.widget-view+json": {
       "model_id": "057af2c5ef3b4bd4b987158d4f7af027",
       "version_major": 2,
       "version_minor": 0
      },
      "text/plain": [
       "Calculating metrics:   0%|          | 0/375 [00:00<?, ?it/s]"
      ]
     },
     "metadata": {},
     "output_type": "display_data"
    },
    {
     "name": "stdout",
     "output_type": "stream",
     "text": [
      "Epoch 2/10, Train (loss: 0.2571, accuracy: 0.9132), Val (loss: 0.2587, accuracy: 0.9107)\n"
     ]
    },
    {
     "data": {
      "application/vnd.jupyter.widget-view+json": {
       "model_id": "189bedbed316493f8b996607c435ac32",
       "version_major": 2,
       "version_minor": 0
      },
      "text/plain": [
       "Training:   0%|          | 0/3375 [00:00<?, ?it/s]"
      ]
     },
     "metadata": {},
     "output_type": "display_data"
    },
    {
     "data": {
      "application/vnd.jupyter.widget-view+json": {
       "model_id": "188af4d81a86450bb75b4c290ec4f3c1",
       "version_major": 2,
       "version_minor": 0
      },
      "text/plain": [
       "Calculating metrics:   0%|          | 0/375 [00:00<?, ?it/s]"
      ]
     },
     "metadata": {},
     "output_type": "display_data"
    },
    {
     "name": "stdout",
     "output_type": "stream",
     "text": [
      "Epoch 3/10, Train (loss: 0.2084, accuracy: 0.9297), Val (loss: 0.2416, accuracy: 0.9185)\n"
     ]
    },
    {
     "data": {
      "application/vnd.jupyter.widget-view+json": {
       "model_id": "526982b797f64a4ea4658b7cdeb1c356",
       "version_major": 2,
       "version_minor": 0
      },
      "text/plain": [
       "Training:   0%|          | 0/3375 [00:00<?, ?it/s]"
      ]
     },
     "metadata": {},
     "output_type": "display_data"
    },
    {
     "data": {
      "application/vnd.jupyter.widget-view+json": {
       "model_id": "5ed93677fbb94b6d8412610d86828727",
       "version_major": 2,
       "version_minor": 0
      },
      "text/plain": [
       "Calculating metrics:   0%|          | 0/375 [00:00<?, ?it/s]"
      ]
     },
     "metadata": {},
     "output_type": "display_data"
    },
    {
     "name": "stdout",
     "output_type": "stream",
     "text": [
      "Epoch 4/10, Train (loss: 0.1770, accuracy: 0.9398), Val (loss: 0.2547, accuracy: 0.9172)\n"
     ]
    },
    {
     "data": {
      "application/vnd.jupyter.widget-view+json": {
       "model_id": "77fb7a9e08534935962a13569cf7aa4a",
       "version_major": 2,
       "version_minor": 0
      },
      "text/plain": [
       "Training:   0%|          | 0/3375 [00:00<?, ?it/s]"
      ]
     },
     "metadata": {},
     "output_type": "display_data"
    },
    {
     "data": {
      "application/vnd.jupyter.widget-view+json": {
       "model_id": "2a3e330174fc429f95b0409cd4920490",
       "version_major": 2,
       "version_minor": 0
      },
      "text/plain": [
       "Calculating metrics:   0%|          | 0/375 [00:00<?, ?it/s]"
      ]
     },
     "metadata": {},
     "output_type": "display_data"
    },
    {
     "name": "stdout",
     "output_type": "stream",
     "text": [
      "Epoch 5/10, Train (loss: 0.1586, accuracy: 0.9454), Val (loss: 0.2570, accuracy: 0.9157)\n"
     ]
    },
    {
     "data": {
      "application/vnd.jupyter.widget-view+json": {
       "model_id": "105c1a1c753545f0a2e0fcd3c0b96cd7",
       "version_major": 2,
       "version_minor": 0
      },
      "text/plain": [
       "Training:   0%|          | 0/3375 [00:00<?, ?it/s]"
      ]
     },
     "metadata": {},
     "output_type": "display_data"
    },
    {
     "data": {
      "application/vnd.jupyter.widget-view+json": {
       "model_id": "ff338e3827054e3c9ff4f5d64a674a22",
       "version_major": 2,
       "version_minor": 0
      },
      "text/plain": [
       "Calculating metrics:   0%|          | 0/375 [00:00<?, ?it/s]"
      ]
     },
     "metadata": {},
     "output_type": "display_data"
    },
    {
     "name": "stdout",
     "output_type": "stream",
     "text": [
      "Epoch 6/10, Train (loss: 0.1461, accuracy: 0.9495), Val (loss: 0.2821, accuracy: 0.9181)\n",
      "Stopping early at epoch 6 with no improvement in validation loss.\n"
     ]
    },
    {
     "name": "stderr",
     "output_type": "stream",
     "text": [
      "/tmp/ipykernel_13935/408530002.py:149: FutureWarning: You are using `torch.load` with `weights_only=False` (the current default value), which uses the default pickle module implicitly. It is possible to construct malicious pickle data which will execute arbitrary code during unpickling (See https://github.com/pytorch/pytorch/blob/main/SECURITY.md#untrusted-models for more details). In a future release, the default value for `weights_only` will be flipped to `True`. This limits the functions that could be executed during unpickling. Arbitrary objects will no longer be allowed to be loaded via this mode unless they are explicitly allowlisted by the user via `torch.serialization.add_safe_globals`. We recommend you start setting `weights_only=True` for any use case where you don't have full control of the loaded file. Please open an issue on GitHub for any issues related to this experimental feature.\n",
      "  self.model.load_state_dict(torch.load(self.best_model_path))\n"
     ]
    }
   ],
   "source": [
    "history = trainer.train(epochs=EPOCHS, early_stopping_patience=EARLY_STOPPING)"
   ]
  },
  {
   "cell_type": "markdown",
   "metadata": {},
   "source": [
    "### Model Metrics\n"
   ]
  },
  {
   "cell_type": "code",
   "execution_count": 99,
   "metadata": {},
   "outputs": [
    {
     "data": {
      "image/png": "[encoded data removed]",
      "text/plain": [
       "<Figure size 2000x500 with 3 Axes>"
      ]
     },
     "metadata": {},
     "output_type": "display_data"
    }
   ],
   "source": [
    "plot_training_history(history)"
   ]
  },
  {
   "cell_type": "markdown",
   "metadata": {},
   "source": [
    "The metrics show the performance of the model during the training process.\n",
    "\n",
    "1. Loss Curves\n",
    "    - Training loss (blue) shows steady decrease over 6 epochs, from ~0.43 to ~0.15\n",
    "    - Validation loss (red) plateaus around 0.25, with a slight increase at the end. The gap between curves indicates overfitting\n",
    "\n",
    "2. Accuracy Curves\n",
    "    - Training accuracy steadily improves from 84% to about 94%\n",
    "    - Validation accuracy plateaus around 92% after epoch 3\n",
    "    - The growing separation between curves confirms overfitting\n",
    "\n",
    "3. F1-Weghted Score\n",
    "    - Shows very similar patterns to the accuracy curves.\n",
    "    - Training F1 reaches ~94% while validation F1 plateaus at ~92%.\n"
   ]
  },
  {
   "cell_type": "markdown",
   "metadata": {},
   "source": [
    "### Confusion Matrix\n"
   ]
  },
  {
   "cell_type": "code",
   "execution_count": 100,
   "metadata": {},
   "outputs": [
    {
     "data": {
      "image/png": "[encoded data removed]",
      "text/plain": [
       "<Figure size 1000x800 with 2 Axes>"
      ]
     },
     "metadata": {},
     "output_type": "display_data"
    }
   ],
   "source": [
    "labels = [\"World\", \"Sports\", \"Business\", \"Sci/Tech\"]\n",
    "cm = trainer.create_confusion_matrix()\n",
    "\n",
    "plot_confusion_matrix(cm, labels)"
   ]
  },
  {
   "cell_type": "markdown",
   "metadata": {},
   "source": [
    "The model classifies news articles into 4 categories: World, Sports, Business, and Science/Technology. The confusion matrix shows the distribution of true and predicted labels for each class.\n",
    "\n",
    "1. Strong diagonal values show good overall classification\n",
    "    - World: 1738 correct predictions\n",
    "    - Sports: 1860 correct predictions\n",
    "    - Business: 1708 correct predictions\n",
    "    - Science/Technology: 1669 correct predictions\n",
    "\n",
    "2. Notable misclassifications:\n",
    "    - Business and Sci/Tech show the highest mutual confusion (114 Business articles classified as Sci/Tech, 167 Sci/Tech articles as Business)\n",
    "    - World has moderate confusion with Business (74 cases) and Sci/Tech (47 cases)\n",
    "    - Sports shows the least confusion with other categories, suggesting more distinctive features"
   ]
  },
  {
   "cell_type": "code",
   "execution_count": 101,
   "metadata": {},
   "outputs": [
    {
     "data": {
      "application/vnd.jupyter.widget-view+json": {
       "model_id": "747c49b041554e60b32a8a787cfd12ce",
       "version_major": 2,
       "version_minor": 0
      },
      "text/plain": [
       "Calculating metrics:   0%|          | 0/238 [00:00<?, ?it/s]"
      ]
     },
     "metadata": {},
     "output_type": "display_data"
    }
   ],
   "source": [
    "results = trainer.evaluate(test_loader)"
   ]
  },
  {
   "cell_type": "code",
   "execution_count": 102,
   "metadata": {},
   "outputs": [
    {
     "name": "stdout",
     "output_type": "stream",
     "text": [
      "Test Loss: 0.2507\n",
      "Test Accuracy: 0.9178\n",
      "Test F1 (Weighted): 0.9177\n"
     ]
    }
   ],
   "source": [
    "print(f\"Test Loss: {results['loss']:.4f}\")\n",
    "print(f\"Test Accuracy: {results['accuracy']:.4f}\")\n",
    "print(f\"Test F1 (Weighted): {results['f1_weighted']:.4f}\")"
   ]
  },
  {
   "cell_type": "markdown",
   "metadata": {},
   "source": [
    "### Test Results & Metrics\n"
   ]
  },
  {
   "cell_type": "code",
   "execution_count": 103,
   "metadata": {},
   "outputs": [
    {
     "data": {
      "application/vnd.jupyter.widget-view+json": {
       "model_id": "23ff7b1bbc554c45ae3f60c20acb31c6",
       "version_major": 2,
       "version_minor": 0
      },
      "text/plain": [
       "Calculating metrics:   0%|          | 0/238 [00:00<?, ?it/s]"
      ]
     },
     "metadata": {},
     "output_type": "display_data"
    },
    {
     "name": "stdout",
     "output_type": "stream",
     "text": [
      "              precision    recall  f1-score      support\n",
      "0              0.935918  0.914737  0.925206  1900.000000\n",
      "1              0.958269  0.978947  0.968498  1900.000000\n",
      "2              0.869654  0.898947  0.884058  1900.000000\n",
      "3              0.908052  0.878421  0.892991  1900.000000\n",
      "accuracy       0.917763  0.917763  0.917763     0.917763\n",
      "macro avg      0.917973  0.917763  0.917688  7600.000000\n",
      "weighted avg   0.917973  0.917763  0.917688  7600.000000\n"
     ]
    }
   ],
   "source": [
    "test_metrics = trainer.evaluate(test_loader)\n",
    "print(pd.DataFrame(test_metrics[\"classification_report\"]).T)"
   ]
  },
  {
   "cell_type": "markdown",
   "metadata": {},
   "source": [
    "### Text Classification\n"
   ]
  },
  {
   "cell_type": "code",
   "execution_count": 104,
   "metadata": {},
   "outputs": [],
   "source": [
    "def classify_text(\n",
    "    text: str, model: nn.Module, dataset: NewsDataset\n",
    ") -> Tuple[int, np.ndarray]:\n",
    "    \"\"\"\n",
    "    Classifies a single text input using the trained model instance.\n",
    "\n",
    "    Args:\n",
    "        text (str): Input text to classify.\n",
    "        model (nn.Module): Trained text classification model.\n",
    "        dataset (NewsDataset): Dataset instance for text processing.\n",
    "\n",
    "    Returns:\n",
    "        Tuple[int, np.ndarray]: Predicted class index and class probabilities.\n",
    "    \"\"\"\n",
    "\n",
    "    model.eval()\n",
    "\n",
    "    tokens = dataset._tokenize(text)\n",
    "    ids = dataset._convert_to_ids(tokens)\n",
    "\n",
    "    x = torch.tensor([ids], dtype=torch.long).to(device)\n",
    "\n",
    "    with torch.no_grad():\n",
    "        output = model(x)\n",
    "        probs = F.softmax(output, dim=1)\n",
    "        pred_class = torch.argmax(output, dim=1).item()\n",
    "\n",
    "    return pred_class, probs[0].cpu().numpy()"
   ]
  },
  {
   "cell_type": "code",
   "execution_count": 105,
   "metadata": {},
   "outputs": [],
   "source": [
    "test_texts = [\n",
    "    \"SpaceX successfully launches rocket to ISS\",\n",
    "    \"Manchester United wins Premier League match\",\n",
    "    \"Stock market reaches new high\",\n",
    "    \"New AI breakthrough in quantum computing\",\n",
    "]"
   ]
  },
  {
   "cell_type": "code",
   "execution_count": 106,
   "metadata": {},
   "outputs": [],
   "source": [
    "labels = [\"World\", \"Sports\", \"Business\", \"Sci/Tech\"]"
   ]
  },
  {
   "cell_type": "code",
   "execution_count": 107,
   "metadata": {},
   "outputs": [
    {
     "name": "stdout",
     "output_type": "stream",
     "text": [
      "\n",
      "Testing classification examples:\n",
      "\n",
      "Text: SpaceX successfully launches rocket to ISS\n",
      "Predicted class: Sci/Tech\n",
      "Class probabilities:\n",
      "World: 0.2880\n",
      "Sports: 0.0061\n",
      "Business: 0.0433\n",
      "Sci/Tech: 0.6626\n",
      "\n",
      "Text: Manchester United wins Premier League match\n",
      "Predicted class: Sports\n",
      "Class probabilities:\n",
      "World: 0.2612\n",
      "Sports: 0.7375\n",
      "Business: 0.0011\n",
      "Sci/Tech: 0.0002\n",
      "\n",
      "Text: Stock market reaches new high\n",
      "Predicted class: Business\n",
      "Class probabilities:\n",
      "World: 0.0902\n",
      "Sports: 0.0024\n",
      "Business: 0.8786\n",
      "Sci/Tech: 0.0288\n",
      "\n",
      "Text: New AI breakthrough in quantum computing\n",
      "Predicted class: World\n",
      "Class probabilities:\n",
      "World: 0.7866\n",
      "Sports: 0.0026\n",
      "Business: 0.0585\n",
      "Sci/Tech: 0.1523\n"
     ]
    }
   ],
   "source": [
    "print(\"\\nTesting classification examples:\")\n",
    "for text in test_texts:\n",
    "    pred_class, probs = classify_text(text, model, train_dataset)\n",
    "\n",
    "    print(f\"\\nText: {text}\")\n",
    "    print(f\"Predicted class: {labels[pred_class]}\")\n",
    "    print(\"Class probabilities:\")\n",
    "\n",
    "    for label, prob in zip(labels, probs):\n",
    "        print(f\"{label}: {prob:.4f}\")"
   ]
  }
 ],
 "metadata": {
  "kernelspec": {
   "display_name": "pt",
   "language": "python",
   "name": "python3"
  },
  "language_info": {
   "codemirror_mode": {
    "name": "ipython",
    "version": 3
   },
   "file_extension": ".py",
   "mimetype": "text/x-python",
   "name": "python",
   "nbconvert_exporter": "python",
   "pygments_lexer": "ipython3",
   "version": "3.10.15"
  }
 },
 "nbformat": 4,
 "nbformat_minor": 2
}
