{
 "cells": [
  {
   "cell_type": "code",
   "execution_count": 47,
   "metadata": {},
   "outputs": [],
   "source": [
    "import torch\n",
    "import torch.nn as nn\n",
    "import torch.nn.functional as F\n",
    "import numpy as np\n",
    "import pandas as pd\n",
    "import matplotlib.pyplot as plt\n",
    "import seaborn as sns\n",
    "from tqdm.notebook import tqdm\n",
    "from sklearn.metrics import confusion_matrix\n",
    "from typing import List, Tuple\n",
    "from torch.utils.data import Dataset, DataLoader, random_split\n",
    "from collections import Counter\n",
    "import re"
   ]
  },
  {
   "cell_type": "code",
   "execution_count": 48,
   "metadata": {},
   "outputs": [
    {
     "name": "stdout",
     "output_type": "stream",
     "text": [
      "PyTorch version: 2.5.1+cu124\n"
     ]
    }
   ],
   "source": [
    "print(f\"PyTorch version: {torch.__version__}\")"
   ]
  },
  {
   "cell_type": "code",
   "execution_count": 49,
   "metadata": {},
   "outputs": [
    {
     "name": "stdout",
     "output_type": "stream",
     "text": [
      "Using device: cuda\n"
     ]
    }
   ],
   "source": [
    "device = torch.device(\"cuda\" if torch.cuda.is_available() else \"cpu\")\n",
    "torch.manual_seed(42)\n",
    "\n",
    "print(f\"Using device: {device}\")"
   ]
  },
  {
   "cell_type": "markdown",
   "metadata": {},
   "source": [
    "## Text Manager\n"
   ]
  },
  {
   "cell_type": "code",
   "execution_count": 50,
   "metadata": {},
   "outputs": [],
   "source": [
    "class NewsDataset(Dataset):\n",
    "    def __init__(self, texts: List[str], labels: List[int], vocab=None, max_length=100):\n",
    "        self.texts = texts\n",
    "        self.labels = labels\n",
    "        self.max_length = max_length\n",
    "\n",
    "        if vocab is None:\n",
    "            self.vocab = self._build_vocab()\n",
    "        else:\n",
    "            self.vocab = vocab\n",
    "\n",
    "    def _build_vocab(self, min_freq: int = 5):\n",
    "        word_counts = Counter()\n",
    "        for text in self.texts:\n",
    "            words = self._tokenize(text)\n",
    "            word_counts.update(words)\n",
    "\n",
    "        vocab = {\"<PAD>\": 0, \"<UNK>\": 1}\n",
    "        for word, count in word_counts.items():\n",
    "            if count >= min_freq:\n",
    "                vocab[word] = len(vocab)\n",
    "\n",
    "        return vocab\n",
    "\n",
    "    def _tokenize(self, text: str) -> List[str]:\n",
    "        words = re.findall(r\"\\b\\w+\\b\", text.lower())\n",
    "        return words\n",
    "\n",
    "    def _convert_to_ids(self, tokens: List[str]) -> List[int]:\n",
    "        tokens = tokens[: self.max_length]\n",
    "        ids = [self.vocab.get(token, self.vocab[\"<UNK>\"]) for token in tokens]\n",
    "\n",
    "        if len(ids) < self.max_length:\n",
    "            ids += [self.vocab[\"<PAD>\"]] * (self.max_length - len(ids))\n",
    "\n",
    "        return ids\n",
    "\n",
    "    def __len__(self):\n",
    "        return len(self.texts)\n",
    "\n",
    "    def __getitem__(self, idx):\n",
    "        text = self.texts[idx]\n",
    "        label = self.labels[idx]\n",
    "\n",
    "        tokens = self._tokenize(text)\n",
    "        ids = self._convert_to_ids(tokens)\n",
    "\n",
    "        return (\n",
    "            torch.tensor(ids, dtype=torch.long),\n",
    "            torch.tensor(label, dtype=torch.long),\n",
    "        )"
   ]
  },
  {
   "cell_type": "code",
   "execution_count": 51,
   "metadata": {},
   "outputs": [],
   "source": [
    "def load_ag_news(file_path: str) -> Tuple[List[str], List[int]]:\n",
    "    try:\n",
    "        with open(file_path, \"r\", encoding=\"utf-8\") as f:\n",
    "            first_line = f.readline().strip()\n",
    "            has_header = first_line.startswith(\"Class Index\") or first_line.startswith(\n",
    "                \"class\"\n",
    "            )\n",
    "\n",
    "        df = pd.read_csv(\n",
    "            file_path,\n",
    "            header=0 if has_header else None,\n",
    "            names=[\"label\", \"title\", \"description\"],\n",
    "            encoding=\"utf-8\",\n",
    "        )\n",
    "\n",
    "        labels = []\n",
    "        texts = []\n",
    "\n",
    "        for idx, row in df.iterrows():\n",
    "            try:\n",
    "                label = int(str(row[\"label\"]).strip(\"\\\"' \")) - 1\n",
    "                title = str(row[\"title\"]).strip(\"\\\"' \")\n",
    "                description = str(row[\"description\"]).strip(\"\\\"' \")\n",
    "                full_text = f\"{title}. {description}\"\n",
    "\n",
    "                labels.append(label)\n",
    "                texts.append(full_text)\n",
    "            except Exception as e:\n",
    "                print(f\"Skipping row {idx} due to error: {str(e)}\")\n",
    "                continue\n",
    "\n",
    "        print(f\"Successfully loaded {len(texts)} samples from {file_path}\")\n",
    "        print(f\"Label distribution: {Counter(labels)}\")\n",
    "\n",
    "        return texts, labels\n",
    "\n",
    "    except Exception as e:\n",
    "        print(f\"Error loading file {file_path}: {str(e)}\")\n",
    "        # Show first few lines of the file for debugging\n",
    "        print(\"\\nFirst few lines of the file:\")\n",
    "        with open(file_path, \"r\", encoding=\"utf-8\") as f:\n",
    "            print(f.read(500))\n",
    "        raise"
   ]
  },
  {
   "cell_type": "markdown",
   "metadata": {},
   "source": [
    "## Text Classifier\n"
   ]
  },
  {
   "cell_type": "code",
   "execution_count": 52,
   "metadata": {},
   "outputs": [],
   "source": [
    "class TextClassifier(nn.Module):\n",
    "    def __init__(\n",
    "        self,\n",
    "        vocab_size: int,\n",
    "        embed_size: int = 300,\n",
    "        hidden_size: int = 256,\n",
    "        num_layers: int = 2,\n",
    "        num_classes: int = 4,\n",
    "        dropout: float = 0.3,\n",
    "    ):\n",
    "        super(TextClassifier, self).__init__()\n",
    "\n",
    "        self.embedding = nn.Embedding(vocab_size, embed_size)\n",
    "        self.gru = nn.GRU(\n",
    "            embed_size,\n",
    "            hidden_size,\n",
    "            num_layers,\n",
    "            batch_first=True,\n",
    "            dropout=dropout if num_layers > 1 else 0,\n",
    "            bidirectional=True,\n",
    "        )\n",
    "\n",
    "        self.fc = nn.Linear(hidden_size * 2, num_classes)\n",
    "        self.dropout = nn.Dropout(dropout)\n",
    "\n",
    "    def forward(self, x: torch.Tensor) -> torch.Tensor:\n",
    "        embedded = self.dropout(self.embedding(x))\n",
    "        output, hidden = self.gru(embedded)\n",
    "\n",
    "        hidden = torch.cat((hidden[-2, :, :], hidden[-1, :, :]), dim=1)\n",
    "        hidden = self.dropout(hidden)\n",
    "\n",
    "        return self.fc(hidden)"
   ]
  },
  {
   "cell_type": "markdown",
   "metadata": {},
   "source": [
    "## Trainer\n"
   ]
  },
  {
   "cell_type": "code",
   "execution_count": 53,
   "metadata": {},
   "outputs": [],
   "source": [
    "class Trainer:\n",
    "    def __init__(\n",
    "        self,\n",
    "        model: nn.Module,\n",
    "        train_loader: DataLoader,\n",
    "        val_loader: DataLoader,\n",
    "        test_loader: DataLoader,\n",
    "        criterion: nn.Module = nn.CrossEntropyLoss(),\n",
    "        lr: float = 0.001,\n",
    "        device: torch.device = device,\n",
    "    ):\n",
    "        self.model = model.to(device)\n",
    "        self.train_loader = train_loader\n",
    "        self.val_loader = val_loader\n",
    "        self.test_loader = test_loader\n",
    "        self.criterion = criterion\n",
    "        self.optimizer = torch.optim.Adam(model.parameters(), lr=lr)\n",
    "        self.device = device\n",
    "\n",
    "    def train_epoch(self):\n",
    "        self.model.train()\n",
    "        total_loss, correct, total = 0, 0, 0\n",
    "\n",
    "        for batch in tqdm(self.train_loader, desc=\"Training\", leave=False):\n",
    "            x, y = [t.to(self.device) for t in batch]\n",
    "\n",
    "            self.optimizer.zero_grad()\n",
    "            output = self.model(x)\n",
    "            loss = self.criterion(output, y)\n",
    "\n",
    "            loss.backward()\n",
    "            self.optimizer.step()\n",
    "\n",
    "            total_loss += loss.item()\n",
    "            _, predicted = torch.max(output, 1)\n",
    "            total += y.size(0)\n",
    "            correct += (predicted == y).sum().item()\n",
    "\n",
    "        return total_loss / len(self.train_loader), correct / total\n",
    "\n",
    "    def evaluate(self, loader: DataLoader):\n",
    "        self.model.eval()\n",
    "        total_loss, correct, total = 0, 0, 0\n",
    "\n",
    "        with torch.no_grad():\n",
    "            for batch in tqdm(loader, desc=\"Evaluating\", leave=False):\n",
    "                x, y = [t.to(self.device) for t in batch]\n",
    "\n",
    "                output = self.model(x)\n",
    "                loss = self.criterion(output, y)\n",
    "\n",
    "                total_loss += loss.item()\n",
    "                _, predicted = torch.max(output, 1)\n",
    "                total += y.size(0)\n",
    "                correct += (predicted == y).sum().item()\n",
    "\n",
    "        return total_loss / len(loader), correct / total\n",
    "\n",
    "    def train(self, epochs: int, early_stopping_patience: int = 3):\n",
    "        best_val_acc, patience_counter = 0, 0\n",
    "        history = []\n",
    "\n",
    "        for epoch in range(epochs):\n",
    "            train_loss, train_acc = self.train_epoch()\n",
    "            val_loss, val_acc = self.evaluate(self.val_loader)\n",
    "\n",
    "            history.append(\n",
    "                {\n",
    "                    \"epoch\": epoch + 1,\n",
    "                    \"train_loss\": train_loss,\n",
    "                    \"train_acc\": train_acc,\n",
    "                    \"val_loss\": val_loss,\n",
    "                    \"val_acc\": val_acc,\n",
    "                }\n",
    "            )\n",
    "\n",
    "            print(f\"\\nEpoch {epoch+1}/{epochs}\")\n",
    "            print(f\"Train Loss: {train_loss:.4f} | Train Acc: {train_acc:.4f}\")\n",
    "            print(f\"Val Loss: {val_loss:.4f} | Val Acc: {val_acc:.4f}\")\n",
    "\n",
    "            if val_acc > best_val_acc:\n",
    "                best_val_acc = val_acc\n",
    "                patience_counter = 0\n",
    "                torch.save(self.model.state_dict(), \"best_model.pt\")\n",
    "\n",
    "            else:\n",
    "                patience_counter += 1\n",
    "\n",
    "            if patience_counter >= early_stopping_patience:\n",
    "                print(f\"Stopping early. Best Val Acc: {best_val_acc:.4f}\")\n",
    "                break\n",
    "\n",
    "        self.model.load_state_dict(torch.load(\"best_model.pt\"))\n",
    "        return history\n",
    "\n",
    "    def create_confusion_matrix(self, loader: DataLoader = None):\n",
    "        if loader is None:\n",
    "            loader = self.test_loader\n",
    "\n",
    "        self.model.eval()\n",
    "        all_preds, all_labels = [], []\n",
    "\n",
    "        with torch.no_grad():\n",
    "            for batch in loader:\n",
    "                x, y = [t.to(self.device) for t in batch]\n",
    "                output = self.model(x)\n",
    "                _, predicted = torch.max(output, 1)\n",
    "\n",
    "                all_preds.extend(predicted.cpu().numpy())\n",
    "                all_labels.extend(y.cpu().numpy())\n",
    "\n",
    "        return confusion_matrix(all_labels, all_preds)"
   ]
  },
  {
   "cell_type": "markdown",
   "metadata": {},
   "source": [
    "## Auxiliary Functions\n"
   ]
  },
  {
   "cell_type": "code",
   "execution_count": 54,
   "metadata": {},
   "outputs": [],
   "source": [
    "def plot_training_history(history):\n",
    "    epochs = [h[\"epoch\"] for h in history]\n",
    "    metrics = [\"loss\", \"acc\"]\n",
    "\n",
    "    fig, axes = plt.subplots(1, 2, figsize=(15, 5))\n",
    "\n",
    "    for idx, metric in enumerate(metrics):\n",
    "        train_metric = [h[f\"train_{metric}\"] for h in history]\n",
    "        val_metric = [h[f\"val_{metric}\"] for h in history]\n",
    "\n",
    "        axes[idx].plot(epochs, train_metric, \"b-\", label=f\"Training {metric}\")\n",
    "        axes[idx].plot(epochs, val_metric, \"r-\", label=f\"Validation {metric}\")\n",
    "        axes[idx].set_title(f\"{metric.capitalize()} over epochs\")\n",
    "        axes[idx].set_xlabel(\"Epoch\")\n",
    "        axes[idx].set_ylabel(metric.capitalize())\n",
    "        axes[idx].legend()\n",
    "        axes[idx].grid(True)\n",
    "\n",
    "    plt.tight_layout()\n",
    "    plt.show()"
   ]
  },
  {
   "cell_type": "code",
   "execution_count": 55,
   "metadata": {},
   "outputs": [],
   "source": [
    "def plot_confusion_matrix(cm, labels):\n",
    "    \"\"\"Plot confusion matrix\"\"\"\n",
    "    plt.figure(figsize=(10, 8))\n",
    "    sns.heatmap(\n",
    "        cm, annot=True, fmt=\"d\", cmap=\"Blues\", xticklabels=labels, yticklabels=labels\n",
    "    )\n",
    "    plt.title(\"Confusion Matrix\")\n",
    "    plt.ylabel(\"True Label\")\n",
    "    plt.xlabel(\"Predicted Label\")\n",
    "    plt.tight_layout()\n",
    "    plt.show()"
   ]
  },
  {
   "cell_type": "markdown",
   "metadata": {},
   "source": [
    "## Main Execution\n"
   ]
  },
  {
   "cell_type": "code",
   "execution_count": 56,
   "metadata": {},
   "outputs": [],
   "source": [
    "train_path = \"data/train.csv\"\n",
    "test_path = \"data/test.csv\""
   ]
  },
  {
   "cell_type": "code",
   "execution_count": 57,
   "metadata": {},
   "outputs": [
    {
     "name": "stdout",
     "output_type": "stream",
     "text": [
      "Successfully loaded 120000 samples from data/train.csv\n",
      "Label distribution: Counter({2: 30000, 3: 30000, 1: 30000, 0: 30000})\n"
     ]
    }
   ],
   "source": [
    "train_texts, train_labels = load_ag_news(train_path)"
   ]
  },
  {
   "cell_type": "code",
   "execution_count": 58,
   "metadata": {},
   "outputs": [
    {
     "name": "stdout",
     "output_type": "stream",
     "text": [
      "Successfully loaded 7600 samples from data/test.csv\n",
      "Label distribution: Counter({2: 1900, 3: 1900, 1: 1900, 0: 1900})\n"
     ]
    }
   ],
   "source": [
    "test_texts, test_labels = load_ag_news(test_path)"
   ]
  },
  {
   "cell_type": "markdown",
   "metadata": {},
   "source": [
    "### Datasets\n"
   ]
  },
  {
   "cell_type": "code",
   "execution_count": 59,
   "metadata": {},
   "outputs": [],
   "source": [
    "train_dataset = NewsDataset(train_texts, train_labels)"
   ]
  },
  {
   "cell_type": "code",
   "execution_count": 60,
   "metadata": {},
   "outputs": [],
   "source": [
    "test_dataset = NewsDataset(test_texts, test_labels, vocab=train_dataset.vocab)"
   ]
  },
  {
   "cell_type": "markdown",
   "metadata": {},
   "source": [
    "### Data Loaders\n"
   ]
  },
  {
   "cell_type": "code",
   "execution_count": 61,
   "metadata": {},
   "outputs": [],
   "source": [
    "BATCH_SIZE = 32\n",
    "VAL_SPLIT = 0.1"
   ]
  },
  {
   "cell_type": "code",
   "execution_count": 62,
   "metadata": {},
   "outputs": [],
   "source": [
    "train_size = int((1 - VAL_SPLIT) * len(train_dataset))\n",
    "val_size = len(train_dataset) - train_size\n",
    "train_ds, val_ds = random_split(train_dataset, [train_size, val_size])"
   ]
  },
  {
   "cell_type": "code",
   "execution_count": 63,
   "metadata": {},
   "outputs": [],
   "source": [
    "train_loader = DataLoader(train_ds, batch_size=BATCH_SIZE, shuffle=True)\n",
    "val_loader = DataLoader(val_ds, batch_size=BATCH_SIZE)\n",
    "test_loader = DataLoader(test_dataset, batch_size=BATCH_SIZE)"
   ]
  },
  {
   "cell_type": "code",
   "execution_count": 64,
   "metadata": {},
   "outputs": [
    {
     "name": "stdout",
     "output_type": "stream",
     "text": [
      "Training samples: 108000\n",
      "Validation samples: 12000\n",
      "Test samples: 7600\n"
     ]
    }
   ],
   "source": [
    "print(f\"Training samples: {len(train_ds)}\")\n",
    "print(f\"Validation samples: {len(val_ds)}\")\n",
    "print(f\"Test samples: {len(test_dataset)}\")"
   ]
  },
  {
   "cell_type": "markdown",
   "metadata": {},
   "source": [
    "### Model\n"
   ]
  },
  {
   "cell_type": "code",
   "execution_count": 65,
   "metadata": {},
   "outputs": [],
   "source": [
    "VOCAB_SIZE = len(train_dataset.vocab)\n",
    "EMBED_SIZE = 300\n",
    "HIDDEN_SIZE = 256\n",
    "NUM_LAYERS = 2\n",
    "NUM_CLASSES = 4\n",
    "DROPOUT = 0.3"
   ]
  },
  {
   "cell_type": "code",
   "execution_count": 66,
   "metadata": {},
   "outputs": [],
   "source": [
    "model = TextClassifier(\n",
    "    vocab_size=VOCAB_SIZE,\n",
    "    embed_size=EMBED_SIZE,\n",
    "    hidden_size=HIDDEN_SIZE,\n",
    "    num_layers=NUM_LAYERS,\n",
    "    num_classes=NUM_CLASSES,\n",
    "    dropout=DROPOUT,\n",
    ")"
   ]
  },
  {
   "cell_type": "code",
   "execution_count": 67,
   "metadata": {},
   "outputs": [],
   "source": [
    "trainer = Trainer(\n",
    "    model=model,\n",
    "    train_loader=train_loader,\n",
    "    val_loader=val_loader,\n",
    "    test_loader=test_loader,\n",
    "    lr=0.001,\n",
    ")"
   ]
  },
  {
   "cell_type": "code",
   "execution_count": 68,
   "metadata": {},
   "outputs": [
    {
     "data": {
      "application/vnd.jupyter.widget-view+json": {
       "model_id": "d42c98d7e7574c99bfc22e3646555f56",
       "version_major": 2,
       "version_minor": 0
      },
      "text/plain": [
       "Training:   0%|          | 0/3375 [00:00<?, ?it/s]"
      ]
     },
     "metadata": {},
     "output_type": "display_data"
    },
    {
     "data": {
      "application/vnd.jupyter.widget-view+json": {
       "model_id": "b3ee201fae424839896a1be02a0ecbba",
       "version_major": 2,
       "version_minor": 0
      },
      "text/plain": [
       "Evaluating:   0%|          | 0/375 [00:00<?, ?it/s]"
      ]
     },
     "metadata": {},
     "output_type": "display_data"
    },
    {
     "name": "stdout",
     "output_type": "stream",
     "text": [
      "\n",
      "Epoch 1/10\n",
      "Train Loss: 0.4340 | Train Acc: 0.8451\n",
      "Val Loss: 0.2781 | Val Acc: 0.9028\n"
     ]
    },
    {
     "data": {
      "application/vnd.jupyter.widget-view+json": {
       "model_id": "1197f3e2813a4ef78c38857361f241d1",
       "version_major": 2,
       "version_minor": 0
      },
      "text/plain": [
       "Training:   0%|          | 0/3375 [00:00<?, ?it/s]"
      ]
     },
     "metadata": {},
     "output_type": "display_data"
    },
    {
     "data": {
      "application/vnd.jupyter.widget-view+json": {
       "model_id": "4b0614756a644c2db56d4cb65935ac7c",
       "version_major": 2,
       "version_minor": 0
      },
      "text/plain": [
       "Evaluating:   0%|          | 0/375 [00:00<?, ?it/s]"
      ]
     },
     "metadata": {},
     "output_type": "display_data"
    },
    {
     "name": "stdout",
     "output_type": "stream",
     "text": [
      "\n",
      "Epoch 2/10\n",
      "Train Loss: 0.2571 | Train Acc: 0.9132\n",
      "Val Loss: 0.2587 | Val Acc: 0.9107\n"
     ]
    },
    {
     "data": {
      "application/vnd.jupyter.widget-view+json": {
       "model_id": "b745bebd437d45c9add68c7e2ac55941",
       "version_major": 2,
       "version_minor": 0
      },
      "text/plain": [
       "Training:   0%|          | 0/3375 [00:00<?, ?it/s]"
      ]
     },
     "metadata": {},
     "output_type": "display_data"
    },
    {
     "data": {
      "application/vnd.jupyter.widget-view+json": {
       "model_id": "302dedc9a7184103a9c08f94a1e68419",
       "version_major": 2,
       "version_minor": 0
      },
      "text/plain": [
       "Evaluating:   0%|          | 0/375 [00:00<?, ?it/s]"
      ]
     },
     "metadata": {},
     "output_type": "display_data"
    },
    {
     "name": "stdout",
     "output_type": "stream",
     "text": [
      "\n",
      "Epoch 3/10\n",
      "Train Loss: 0.2084 | Train Acc: 0.9297\n",
      "Val Loss: 0.2416 | Val Acc: 0.9185\n"
     ]
    },
    {
     "data": {
      "application/vnd.jupyter.widget-view+json": {
       "model_id": "5f8dde118e4b4c42aaf122bcce272da2",
       "version_major": 2,
       "version_minor": 0
      },
      "text/plain": [
       "Training:   0%|          | 0/3375 [00:00<?, ?it/s]"
      ]
     },
     "metadata": {},
     "output_type": "display_data"
    },
    {
     "data": {
      "application/vnd.jupyter.widget-view+json": {
       "model_id": "4b5ff517a4fd4ddb9d6dfb9c56048062",
       "version_major": 2,
       "version_minor": 0
      },
      "text/plain": [
       "Evaluating:   0%|          | 0/375 [00:00<?, ?it/s]"
      ]
     },
     "metadata": {},
     "output_type": "display_data"
    },
    {
     "name": "stdout",
     "output_type": "stream",
     "text": [
      "\n",
      "Epoch 4/10\n",
      "Train Loss: 0.1770 | Train Acc: 0.9398\n",
      "Val Loss: 0.2547 | Val Acc: 0.9172\n"
     ]
    },
    {
     "data": {
      "application/vnd.jupyter.widget-view+json": {
       "model_id": "90cb6067966947deb5e19cd4c6269617",
       "version_major": 2,
       "version_minor": 0
      },
      "text/plain": [
       "Training:   0%|          | 0/3375 [00:00<?, ?it/s]"
      ]
     },
     "metadata": {},
     "output_type": "display_data"
    },
    {
     "data": {
      "application/vnd.jupyter.widget-view+json": {
       "model_id": "126f5db156f34af6b149fc6b9b5a48fb",
       "version_major": 2,
       "version_minor": 0
      },
      "text/plain": [
       "Evaluating:   0%|          | 0/375 [00:00<?, ?it/s]"
      ]
     },
     "metadata": {},
     "output_type": "display_data"
    },
    {
     "name": "stdout",
     "output_type": "stream",
     "text": [
      "\n",
      "Epoch 5/10\n",
      "Train Loss: 0.1586 | Train Acc: 0.9454\n",
      "Val Loss: 0.2570 | Val Acc: 0.9157\n"
     ]
    },
    {
     "data": {
      "application/vnd.jupyter.widget-view+json": {
       "model_id": "bdd0fc1ea66543c6af6fba2994ae22ae",
       "version_major": 2,
       "version_minor": 0
      },
      "text/plain": [
       "Training:   0%|          | 0/3375 [00:00<?, ?it/s]"
      ]
     },
     "metadata": {},
     "output_type": "display_data"
    },
    {
     "data": {
      "application/vnd.jupyter.widget-view+json": {
       "model_id": "63517a69ad6441d9bf5e0ba502226fbe",
       "version_major": 2,
       "version_minor": 0
      },
      "text/plain": [
       "Evaluating:   0%|          | 0/375 [00:00<?, ?it/s]"
      ]
     },
     "metadata": {},
     "output_type": "display_data"
    },
    {
     "name": "stdout",
     "output_type": "stream",
     "text": [
      "\n",
      "Epoch 6/10\n",
      "Train Loss: 0.1461 | Train Acc: 0.9495\n",
      "Val Loss: 0.2821 | Val Acc: 0.9181\n",
      "Stopping early. Best Val Acc: 0.9185\n"
     ]
    },
    {
     "name": "stderr",
     "output_type": "stream",
     "text": [
      "/tmp/ipykernel_29946/3653158627.py:93: FutureWarning: You are using `torch.load` with `weights_only=False` (the current default value), which uses the default pickle module implicitly. It is possible to construct malicious pickle data which will execute arbitrary code during unpickling (See https://github.com/pytorch/pytorch/blob/main/SECURITY.md#untrusted-models for more details). In a future release, the default value for `weights_only` will be flipped to `True`. This limits the functions that could be executed during unpickling. Arbitrary objects will no longer be allowed to be loaded via this mode unless they are explicitly allowlisted by the user via `torch.serialization.add_safe_globals`. We recommend you start setting `weights_only=True` for any use case where you don't have full control of the loaded file. Please open an issue on GitHub for any issues related to this experimental feature.\n",
      "  self.model.load_state_dict(torch.load(\"best_model.pt\"))\n"
     ]
    }
   ],
   "source": [
    "history = trainer.train(epochs=10, early_stopping_patience=3)"
   ]
  },
  {
   "cell_type": "code",
   "execution_count": 69,
   "metadata": {},
   "outputs": [
    {
     "data": {
      "image/png": "[encoded data removed]",
      "text/plain": [
       "<Figure size 1500x500 with 2 Axes>"
      ]
     },
     "metadata": {},
     "output_type": "display_data"
    }
   ],
   "source": [
    "plot_training_history(history)"
   ]
  },
  {
   "cell_type": "code",
   "execution_count": 70,
   "metadata": {},
   "outputs": [
    {
     "data": {
      "image/png": "[encoded data removed]",
      "text/plain": [
       "<Figure size 1000x800 with 2 Axes>"
      ]
     },
     "metadata": {},
     "output_type": "display_data"
    }
   ],
   "source": [
    "labels = [\"World\", \"Sports\", \"Business\", \"Sci/Tech\"]\n",
    "cm = trainer.create_confusion_matrix()\n",
    "\n",
    "plot_confusion_matrix(cm, labels)"
   ]
  },
  {
   "cell_type": "code",
   "execution_count": 71,
   "metadata": {},
   "outputs": [
    {
     "data": {
      "application/vnd.jupyter.widget-view+json": {
       "model_id": "f43efd91acca4d0abf0981be9d2c845c",
       "version_major": 2,
       "version_minor": 0
      },
      "text/plain": [
       "Evaluating:   0%|          | 0/238 [00:00<?, ?it/s]"
      ]
     },
     "metadata": {},
     "output_type": "display_data"
    },
    {
     "name": "stdout",
     "output_type": "stream",
     "text": [
      "\n",
      "Test Accuracy: 0.9178\n"
     ]
    }
   ],
   "source": [
    "test_loss, test_acc = trainer.evaluate(test_loader)\n",
    "print(f\"\\nTest Accuracy: {test_acc:.4f}\")"
   ]
  },
  {
   "cell_type": "markdown",
   "metadata": {},
   "source": [
    "### Text Classification\n"
   ]
  },
  {
   "cell_type": "code",
   "execution_count": 72,
   "metadata": {},
   "outputs": [],
   "source": [
    "def classify_text(text: str, model: nn.Module, dataset: NewsDataset):\n",
    "    model.eval()\n",
    "\n",
    "    tokens = dataset._tokenize(text)\n",
    "    ids = dataset._convert_to_ids(tokens)\n",
    "\n",
    "    x = torch.tensor([ids], dtype=torch.long).to(device)\n",
    "\n",
    "    with torch.no_grad():\n",
    "        output = model(x)\n",
    "        probs = F.softmax(output, dim=1)\n",
    "        pred_class = torch.argmax(output, dim=1).item()\n",
    "\n",
    "    return pred_class, probs[0].cpu().numpy()"
   ]
  },
  {
   "cell_type": "code",
   "execution_count": 73,
   "metadata": {},
   "outputs": [],
   "source": [
    "test_texts = [\n",
    "    \"SpaceX successfully launches rocket to ISS\",\n",
    "    \"Manchester United wins Premier League match\",\n",
    "    \"Stock market reaches new high\",\n",
    "    \"New AI breakthrough in quantum computing\",\n",
    "]"
   ]
  },
  {
   "cell_type": "code",
   "execution_count": 74,
   "metadata": {},
   "outputs": [],
   "source": [
    "labels = [\"World\", \"Sports\", \"Business\", \"Sci/Tech\"]"
   ]
  },
  {
   "cell_type": "code",
   "execution_count": 75,
   "metadata": {},
   "outputs": [
    {
     "name": "stdout",
     "output_type": "stream",
     "text": [
      "\n",
      "Testing classification examples:\n",
      "\n",
      "Text: SpaceX successfully launches rocket to ISS\n",
      "Predicted class: Sci/Tech\n",
      "Class probabilities:\n",
      "World: 0.2880\n",
      "Sports: 0.0061\n",
      "Business: 0.0433\n",
      "Sci/Tech: 0.6626\n",
      "\n",
      "Text: Manchester United wins Premier League match\n",
      "Predicted class: Sports\n",
      "Class probabilities:\n",
      "World: 0.2612\n",
      "Sports: 0.7375\n",
      "Business: 0.0011\n",
      "Sci/Tech: 0.0002\n",
      "\n",
      "Text: Stock market reaches new high\n",
      "Predicted class: Business\n",
      "Class probabilities:\n",
      "World: 0.0902\n",
      "Sports: 0.0024\n",
      "Business: 0.8786\n",
      "Sci/Tech: 0.0288\n",
      "\n",
      "Text: New AI breakthrough in quantum computing\n",
      "Predicted class: World\n",
      "Class probabilities:\n",
      "World: 0.7866\n",
      "Sports: 0.0026\n",
      "Business: 0.0585\n",
      "Sci/Tech: 0.1523\n"
     ]
    }
   ],
   "source": [
    "print(\"\\nTesting classification examples:\")\n",
    "for text in test_texts:\n",
    "    pred_class, probs = classify_text(text, model, train_dataset)\n",
    "\n",
    "    print(f\"\\nText: {text}\")\n",
    "    print(f\"Predicted class: {labels[pred_class]}\")\n",
    "    print(\"Class probabilities:\")\n",
    "\n",
    "    for label, prob in zip(labels, probs):\n",
    "        print(f\"{label}: {prob:.4f}\")"
   ]
  }
 ],
 "metadata": {
  "kernelspec": {
   "display_name": "pt",
   "language": "python",
   "name": "python3"
  },
  "language_info": {
   "codemirror_mode": {
    "name": "ipython",
    "version": 3
   },
   "file_extension": ".py",
   "mimetype": "text/x-python",
   "name": "python",
   "nbconvert_exporter": "python",
   "pygments_lexer": "ipython3",
   "version": "3.10.15"
  }
 },
 "nbformat": 4,
 "nbformat_minor": 2
}
