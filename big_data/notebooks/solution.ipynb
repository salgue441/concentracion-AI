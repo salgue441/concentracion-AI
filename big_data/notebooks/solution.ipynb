{
 "cells": [
  {
   "cell_type": "markdown",
   "metadata": {},
   "source": [
    "## Big Data ~ Momento de Retroalimentación\n",
    "\n",
    "### Estudiante\n",
    "\n",
    "- Nombre: Carlos Salguero\n",
    "- Matrícula: A00833341\n",
    "\n",
<<<<<<< HEAD
    "### Dataset\n"
=======
    "### Dataset\n",
    "\n",
    "The Flickr30k dataset has become a standard benchmark for sentence-based image description. This paper presents Flickr30k Entities, which augments the 158k captions from Flickr30k with 244k coreference chains, linking mentions of the same entities across different captions for the same image, and associating them with 276k manually annotated bounding boxes. Such annotations are essential for continued progress in automatic image description and grounded language understanding. They enable us to define a new benchmark for localization of textual entity mentions in an image. We present a strong baseline for this task that combines an image-text embedding, detectors for common objects, a color classifier, and a bias towards selecting larger objects. While our baseline rivals in accuracy more complex state-of-the-art models, we show that its gains cannot be easily parlayed into improvements on such tasks as image-sentence retrieval, thus underlining the limitations of current methods and the need for further research.\n"
>>>>>>> 903b4933ba796469692fb0dfde1f6b8bb62ff174
   ]
  },
  {
   "cell_type": "code",
   "execution_count": 1,
   "metadata": {},
<<<<<<< HEAD
   "outputs": [
    {
     "name": "stderr",
     "output_type": "stream",
     "text": [
      "/home/carlos/miniconda3/envs/pytorch/lib/python3.11/site-packages/albumentations/__init__.py:13: UserWarning: A new version of Albumentations is available: 1.4.18 (you have 1.4.14). Upgrade using: pip install -U albumentations. To disable automatic update checks, set the environment variable NO_ALBUMENTATIONS_UPDATE to 1.\n",
      "  check_for_updates()\n"
     ]
    }
   ],
   "source": [
    "import os\n",
    "import torch\n",
    "import torch.nn as nn\n",
    "import torch.optim as optim\n",
    "from torch.utils.data import Dataset, DataLoader\n",
    "from torchvision import models, transforms\n",
    "from torchvision.models import efficientnet_b4, EfficientNet_B4_Weights\n",
    "from sklearn.model_selection import train_test_split\n",
    "from sklearn.metrics import f1_score, classification_report\n",
    "import numpy as np\n",
    "import seaborn as sns\n",
    "from PIL import Image\n",
    "import albumentations as A\n",
    "from albumentations.pytorch import ToTensorV2\n",
    "import matplotlib.pyplot as plt\n",
    "from tqdm import tqdm\n",
    "from pyspark.sql import SparkSession\n",
    "from pyspark.sql.functions import col\n",
    "import torch.amp as amp"
=======
   "outputs": [],
   "source": [
    "import torch\n",
    "import torch.nn as nn\n",
    "import torchvision.models as models\n",
    "import torchvision.transforms as transforms\n",
    "import io\n",
    "import json\n",
    "import numpy as np\n",
    "from pyspark.sql import SparkSession\n",
    "from pyspark.sql.functions import udf, col\n",
    "from pyspark.sql.types import *\n",
    "from PIL import Image\n",
    "from tqdm import tqdm\n",
    "from typing import List, Dict"
   ]
  },
  {
   "cell_type": "markdown",
   "metadata": {},
   "source": [
    "## Image Caption Model\n"
>>>>>>> 903b4933ba796469692fb0dfde1f6b8bb62ff174
   ]
  },
  {
   "cell_type": "code",
   "execution_count": 2,
   "metadata": {},
   "outputs": [],
   "source": [
<<<<<<< HEAD
    "torch.manual_seed(42)\n",
    "np.random.seed(42)"
=======
    "class ImageCaptionModel(nn.Module):\n",
    "    def __init__(self, embed_size: int = 256, hidden_size: int = 256):\n",
    "        super(ImageCaptionModel, self).__init__()\n",
    "\n",
    "        resnet = models.resnet50(pretrained=True)\n",
    "        modules = list(resnet.children())[:-1]\n",
    "        self.resnet = nn.Sequential(*modules)\n",
    "\n",
    "        self.image_embed = nn.Linear(resnet.fc.in_features, embed_size)\n",
    "        self.dropout = nn.Dropout(0.5)\n",
    "        self.projection = nn.Sequential(\n",
    "            nn.Linear(embed_size, hidden_size),\n",
    "            nn.ReLU(),\n",
    "            nn.Linear(hidden_size, embed_size),\n",
    "        )\n",
    "\n",
    "    def forward(self, images):\n",
    "        with torch.no_grad():\n",
    "            features = self.resnet(images)\n",
    "\n",
    "        features = features.view(features.size(0), -1)\n",
    "        features = self.image_embed(features)\n",
    "        features = self.dropout(features)\n",
    "        features = self.projection(features)\n",
    "\n",
    "        return features"
>>>>>>> 903b4933ba796469692fb0dfde1f6b8bb62ff174
   ]
  },
  {
   "cell_type": "markdown",
   "metadata": {},
   "source": [
<<<<<<< HEAD
    "### PySpark Auxiliary Functions\n"
=======
    "## Auxiliar Functions\n"
>>>>>>> 903b4933ba796469692fb0dfde1f6b8bb62ff174
   ]
  },
  {
   "cell_type": "code",
   "execution_count": 3,
   "metadata": {},
   "outputs": [],
   "source": [
<<<<<<< HEAD
    "def initialize_spark():\n",
    "    \"\"\"\n",
    "    Initialize Spark session with optimal configurations\n",
    "    \"\"\"\n",
    "\n",
    "    spark = (\n",
    "        SparkSession.builder.appName(\"Retina Classification\")\n",
    "        .config(\"spark.driver.memory\", \"16g\")\n",
    "        .config(\"spark.executor.memory\", \"16g\")\n",
    "        .config(\"spark.executor.cores\", \"4\")\n",
    "        .config(\"spark.driver.extraJavaOptions\", \"-Djava.net.preferIPv6Addresses=false\")\n",
    "        .config(\n",
    "            \"spark.executor.extraJavaOptions\", \"-Djava.net.preferIPv6Addresses=false\"\n",
    "        )\n",
    "        .config(\"spark.python.worker.memory\", \"16g\")\n",
    "        .config(\"spark.rdd.compress\", \"True\")\n",
    "        .config(\"spark.driver.maxResultSize\", \"0\")\n",
    "        .getOrCreate()\n",
    "    )\n",
    "\n",
    "    return spark"
=======
    "def create_spark_session(app_name: str = \"Flick39k_PyTorch\") -> SparkSession:\n",
    "    \"\"\"\n",
    "    Creates a spark session with the necessary configuration.\n",
    "    \"\"\"\n",
    "\n",
    "    return (\n",
    "        SparkSession.builder.appName(app_name)\n",
    "        .config(\"spark.driver.memory\", \"16g\")\n",
    "        .config(\"spark.executor.memory\", \"16g\")\n",
    "        .config(\"spark.driver.maxResultSize\", \"0\")\n",
    "        .config(\"spark.executor.cores\", \"4\")\n",
    "        .config(\"spark.python.worker.memory\", \"16g\")\n",
    "        .getOrCreate()\n",
    "    )"
>>>>>>> 903b4933ba796469692fb0dfde1f6b8bb62ff174
   ]
  },
  {
   "cell_type": "code",
   "execution_count": 4,
   "metadata": {},
   "outputs": [],
   "source": [
<<<<<<< HEAD
    "def process_images_with_spark(data_dir, spark):\n",
    "    \"\"\"\n",
    "    Use Spark to process and collect image paths\n",
    "    \"\"\"\n",
    "\n",
    "    image_paths, labels = [], []\n",
    "\n",
    "    for class_name in [\"non-dr\", \"train_images\"]:\n",
    "        class_dir = os.path.join(data_dir, class_name)\n",
    "\n",
    "        if os.path.exists(class_dir):\n",
    "            label = 0 if class_name == \"non-dr\" else 1\n",
    "\n",
    "            for img_name in os.listdir(class_dir):\n",
    "                if img_name.lower().endswith((\".png\", \".jpg\", \".jpeg\")):\n",
    "                    image_paths.append(os.path.join(class_dir, img_name))\n",
    "                    labels.append(label)\n",
    "\n",
    "    data = [(path, label) for path, label in zip(image_paths, labels)]\n",
    "    df = spark.createDataFrame(data, [\"image_path\", \"label\"])\n",
    "    df.cache()\n",
    "\n",
    "    print(\"\\nDataset Statistics:\")\n",
    "    print(f\"Total images: {df.count()}\")\n",
    "    df.groupBy(\"label\").count().show()\n",
    "\n",
    "    return df.collect()"
=======
    "def preprocess_image(image_path: str, transform=None) -> torch.Tensor:\n",
    "    \"\"\"\n",
    "    Preprocesses the image to be used by the model.\n",
    "    \"\"\"\n",
    "\n",
    "    if transform is None:\n",
    "        transform = transforms.Compose(\n",
    "            [\n",
    "                transforms.Resize((256, 256)),\n",
    "                transforms.ToTensor(),\n",
    "                transforms.Normalize(\n",
    "                    mean=[0.485, 0.456, 0.406], std=[0.229, 0.224, 0.225]\n",
    "                ),\n",
    "            ]\n",
    "        )\n",
    "\n",
    "    with Image.open(image_path).convert(\"RGB\") as img:\n",
    "        return transform(img)"
>>>>>>> 903b4933ba796469692fb0dfde1f6b8bb62ff174
   ]
  },
  {
   "cell_type": "markdown",
   "metadata": {},
   "source": [
<<<<<<< HEAD
    "## Dataset\n"
=======
    "## Combining PySpark and PyTorch\n"
>>>>>>> 903b4933ba796469692fb0dfde1f6b8bb62ff174
   ]
  },
  {
   "cell_type": "code",
   "execution_count": 5,
   "metadata": {},
   "outputs": [],
   "source": [
<<<<<<< HEAD
    "class RetinalDataset(Dataset):\n",
    "    def __init__(self, image_paths, labels, transform=None):\n",
    "        self.image_paths = image_paths\n",
    "        self.labels = labels\n",
    "        self.transform = transform\n",
    "\n",
    "    def __len__(self):\n",
    "        return len(self.image_paths)\n",
    "\n",
    "    def __getitem__(self, idx):\n",
    "        image_path = self.image_paths[idx]\n",
    "        image = Image.open(image_path).convert(\"RGB\")\n",
    "        image = np.array(image)\n",
    "\n",
    "        if self.transform:\n",
    "            augmented = self.transform(image=image)\n",
    "            image = augmented[\"image\"]\n",
    "\n",
    "        label = torch.tensor(self.labels[idx], dtype=torch.float32)\n",
    "        return image, label"
=======
    "class SparkPyTorchTrainer:\n",
    "    def __init__(\n",
    "        self,\n",
    "        spark: SparkSession,\n",
    "        model: nn.Module,\n",
    "        batch_size: int = 32,\n",
    "        device: str = \"cuda\",\n",
    "    ):\n",
    "        self.spark = spark\n",
    "        self.model = model.to(device)\n",
    "        self.device = device\n",
    "        self.transform = transforms.Compose(\n",
    "            [\n",
    "                transforms.Resize((224, 224)),\n",
    "                transforms.ToTensor(),\n",
    "                transforms.Normalize(\n",
    "                    mean=[0.485, 0.456, 0.406], std=[0.229, 0.224, 0.225]\n",
    "                ),\n",
    "            ]\n",
    "        )\n",
    "\n",
    "    def prepare_data(self, image_dir: str, annotation_file: str):\n",
    "        with open(annotation_file, \"r\") as ann_file:\n",
    "            annotations = json.load(ann_file)\n",
    "\n",
    "        annotations_schema = StructType(\n",
    "            [\n",
    "                StructField(\"image_id\", StringType(), True),\n",
    "                StructField(\"caption\", ArrayType(StringType()), True),\n",
    "                StructField(\n",
    "                    \"boxes\",\n",
    "                    ArrayType(\n",
    "                        StructType(\n",
    "                            [\n",
    "                                StructField(\"x\", FloatType(), True),\n",
    "                                StructField(\"y\", FloatType(), True),\n",
    "                                StructField(\"width\", FloatType(), True),\n",
    "                                StructField(\"height\", FloatType(), True),\n",
    "                            ]\n",
    "                        )\n",
    "                    ),\n",
    "                    True,\n",
    "                ),\n",
    "            ]\n",
    "        )\n",
    "\n",
    "        annotations_df = self.spark.createDataFrame(\n",
    "            annotations, schema=annotations_schema\n",
    "        )\n",
    "\n",
    "        annotations_df = annotations_df.withColumn(\n",
    "            \"image_path\", concat(lit(image_dir), col(\"image_id\"))\n",
    "        )\n",
    "\n",
    "        return annotations_df\n",
    "\n",
    "    def preprocess_batch(self, batch_df):\n",
    "        images, captions = [], []\n",
    "\n",
    "        for row in batch_df.collect():\n",
    "            try:\n",
    "                img_tensor = preprocess_image(row.image_path, self.transform)\n",
    "                images.append(img_tensor)\n",
    "                captions.append(row.caption)\n",
    "\n",
    "            except Exception as e:\n",
    "                print(f\"Error processing image: {row.image_path}\")\n",
    "                print(e)\n",
    "\n",
    "                continue\n",
    "\n",
    "        if not images:\n",
    "            return None\n",
    "\n",
    "        image_batch = torch.stack(images).to(self.device)\n",
    "        with torch.no_grad():\n",
    "            image_features = self.model(image_batch)\n",
    "\n",
    "        return image_features, captions\n",
    "\n",
    "    def train(self, data_df, batch_size: int = 32, num_epochs: int = 10):\n",
    "        optimizer = torch.optim.Adam(self.model.parameters(), lr=0.001)\n",
    "\n",
    "        for epoch in range(num_epochs):\n",
    "            self.model.train()\n",
    "            total_loss, num_batches = 0, 0\n",
    "\n",
    "            batches = data_df.repartition(data_df.count() // batch_size)\n",
    "            for batch in batches.toLocalIterator():\n",
    "                batch_df = self.spark.createDataFrame([batch])\n",
    "                result = self.preprocess_batch(batch_df)\n",
    "\n",
    "                if result is None:\n",
    "                    continue\n",
    "\n",
    "                features, captions = result\n",
    "                loss = self.calculate_loss(features, captions)\n",
    "\n",
    "                optimizer.zero_grad()\n",
    "                loss.backward()\n",
    "                optimizer.step()\n",
    "\n",
    "                total_loss += loss.item()\n",
    "                num_batches += 1\n",
    "\n",
    "            avg_loss = total_loss / num_batches\n",
    "            print(f\"Epoch: {epoch}, Loss: {avg_loss}\")\n",
    "\n",
    "    def calculate_loss(self, image_features, captions):\n",
    "        return torch.mean(image_features.pow(2))"
>>>>>>> 903b4933ba796469692fb0dfde1f6b8bb62ff174
   ]
  },
  {
   "cell_type": "markdown",
   "metadata": {},
   "source": [
<<<<<<< HEAD
    "## Retinal Classifier Model\n"
   ]
  },
  {
   "cell_type": "code",
   "execution_count": 6,
   "metadata": {},
   "outputs": [],
   "source": [
    "class RetinalClassifier:\n",
    "    def __init__(self, learning_rate=1e-4):\n",
    "        self.device = torch.device(\"cuda\" if torch.cuda.is_available() else \"cpu\")\n",
    "\n",
    "        self.model = efficientnet_b4(weights=EfficientNet_B4_Weights.IMAGENET1K_V1)\n",
    "        num_ftrs = self.model.classifier[1].in_features\n",
    "\n",
    "        self.model.classifier = nn.Sequential(\n",
    "            nn.Dropout(p=0.4), nn.Linear(num_ftrs, 1)  # No Sigmoid here\n",
    "        )\n",
    "\n",
    "        self.model = self.model.to(self.device)\n",
    "        if torch.cuda.device_count() > 1:\n",
    "            print(f\"Using {torch.cuda.device_count()} GPUs!\")\n",
    "            self.model = nn.DataParallel(self.model)\n",
    "\n",
    "        self.criterion = nn.BCEWithLogitsLoss()\n",
    "        self.optimizer = optim.Adam(self.model.parameters(), lr=learning_rate)\n",
    "        self.scaler = amp.GradScaler(\"cuda\")\n",
    "\n",
    "        if self.device.type == \"cuda\":\n",
    "            torch.cuda.empty_cache()\n",
    "\n",
    "    def train_epoch(self, train_loader):\n",
    "        self.model.train()\n",
    "        running_loss = 0.0\n",
    "        predictions = []\n",
    "        true_labels = []\n",
    "\n",
    "        progress_bar = tqdm(train_loader, desc=\"Training\")\n",
    "\n",
    "        for images, labels in progress_bar:\n",
    "            images = images.to(self.device, non_blocking=True)\n",
    "            labels = labels.float().to(self.device, non_blocking=True).view(-1, 1)\n",
    "\n",
    "            self.optimizer.zero_grad(set_to_none=True)\n",
    "            with amp.autocast(device_type=\"cuda\"):\n",
    "                outputs = self.model(images)\n",
    "                loss = self.criterion(outputs, labels)\n",
    "\n",
    "            self.scaler.scale(loss).backward()\n",
    "            self.scaler.step(self.optimizer)\n",
    "            self.scaler.update()\n",
    "\n",
    "            running_loss += loss.item()\n",
    "\n",
    "            with torch.no_grad():\n",
    "                preds = (torch.sigmoid(outputs) > 0.5).cpu().numpy()\n",
    "                predictions.extend(preds.flatten())\n",
    "                true_labels.extend(labels.cpu().numpy().flatten())\n",
    "\n",
    "            progress_bar.set_postfix(\n",
    "                {\n",
    "                    \"loss\": f\"{loss.item():.4f}\",\n",
    "                    \"gpu_mem\": f\"{torch.cuda.memory_allocated() / 1e9:.2f}GB\",\n",
    "                }\n",
    "            )\n",
    "\n",
    "        epoch_loss = running_loss / len(train_loader)\n",
    "        epoch_f1 = f1_score(true_labels, predictions)\n",
    "\n",
    "        return epoch_loss, epoch_f1\n",
    "\n",
    "    def validate(self, val_loader):\n",
    "        self.model.eval()\n",
    "        val_loss = 0.0\n",
    "        predictions = []\n",
    "        true_labels = []\n",
    "\n",
    "        with torch.no_grad():\n",
    "            for images, labels in tqdm(val_loader, desc=\"Validation\"):\n",
    "                images = images.to(self.device, non_blocking=True)\n",
    "                labels = labels.float().to(self.device, non_blocking=True).view(-1, 1)\n",
    "\n",
    "                with amp.autocast(device_type=\"cuda\"):\n",
    "                    outputs = self.model(images)\n",
    "                    loss = self.criterion(outputs, labels)\n",
    "\n",
    "                val_loss += loss.item()\n",
    "\n",
    "                preds = (torch.sigmoid(outputs) > 0.5).cpu().numpy()\n",
    "                predictions.extend(preds.flatten())\n",
    "                true_labels.extend(labels.cpu().numpy().flatten())\n",
    "\n",
    "        avg_val_loss = val_loss / len(val_loader)\n",
    "        val_f1 = f1_score(true_labels, predictions)\n",
    "\n",
    "        return {\n",
    "            \"val_loss\": avg_val_loss,\n",
    "            \"f1\": val_f1,\n",
    "            \"report\": classification_report(true_labels, predictions),\n",
    "        }"
   ]
  },
  {
   "cell_type": "code",
   "execution_count": 7,
   "metadata": {},
   "outputs": [],
   "source": [
    "def train(model, train_loader, val_loader, num_epochs=10):\n",
    "    \"\"\"\n",
    "    Training loop with early stopping and learning rate scheduling\n",
    "    \"\"\"\n",
    "    # Learning rate scheduler\n",
    "    scheduler = optim.lr_scheduler.ReduceLROnPlateau(\n",
    "        model.optimizer,\n",
    "        mode=\"max\",\n",
    "        factor=0.1,\n",
    "        patience=3,\n",
    "        verbose=False,\n",
    "    )\n",
    "\n",
    "    best_f1 = 0\n",
    "    patience = 5\n",
    "    patience_counter = 0\n",
    "    history = {\"train_loss\": [], \"train_f1\": [], \"val_loss\": [], \"val_f1\": []}\n",
    "\n",
    "    for epoch in range(num_epochs):\n",
    "        print(f\"\\nEpoch {epoch+1}/{num_epochs}\")\n",
    "\n",
    "        train_loss, train_f1 = model.train_epoch(train_loader)\n",
    "        metrics = model.validate(val_loader)\n",
    "\n",
    "        history[\"train_loss\"].append(train_loss)\n",
    "        history[\"train_f1\"].append(train_f1)\n",
    "        history[\"val_loss\"].append(metrics[\"val_loss\"])\n",
    "        history[\"val_f1\"].append(metrics[\"f1\"])\n",
    "\n",
    "        print(f\"\\nTraining Loss: {train_loss:.4f}\")\n",
    "        print(f\"Training F1: {train_f1:.4f}\")\n",
    "        print(f\"Validation Loss: {metrics['val_loss']:.4f}\")\n",
    "        print(f\"Validation F1: {metrics['f1']:.4f}\")\n",
    "\n",
    "        scheduler.step(metrics[\"f1\"])\n",
    "        if metrics[\"f1\"] > best_f1:\n",
    "            best_f1 = metrics[\"f1\"]\n",
    "            patience_counter = 0\n",
    "            torch.save(\n",
    "                {\n",
    "                    \"epoch\": epoch,\n",
    "                    \"model_state_dict\": model.model.state_dict(),\n",
    "                    \"optimizer_state_dict\": model.optimizer.state_dict(),\n",
    "                    \"best_f1\": best_f1,\n",
    "                },\n",
    "                \"best_model.pth\",\n",
    "            )\n",
    "            print(\"Saved new best model!\")\n",
    "        else:\n",
    "            patience_counter += 1\n",
    "\n",
    "        if patience_counter >= patience:\n",
    "            print(\"Early stopping triggered!\")\n",
    "            break\n",
    "\n",
    "    return history"
=======
    "## Loading Everything\n"
>>>>>>> 903b4933ba796469692fb0dfde1f6b8bb62ff174
   ]
  },
  {
   "cell_type": "code",
   "execution_count": 8,
   "metadata": {},
<<<<<<< HEAD
   "outputs": [],
   "source": [
    "def get_transforms(phase):\n",
    "    \"\"\"\n",
    "    Get transformations for different phases\n",
    "    \"\"\"\n",
    "    if phase == \"train\":\n",
    "        return A.Compose(\n",
    "            [\n",
    "                A.Resize(380, 380),\n",
    "                A.HorizontalFlip(p=0.5),\n",
    "                A.VerticalFlip(p=0.5),\n",
    "                A.RandomRotate90(p=0.5),\n",
    "                A.RandomBrightnessContrast(p=0.2),\n",
    "                A.Normalize(mean=[0.485, 0.456, 0.406], std=[0.229, 0.224, 0.225]),\n",
    "                ToTensorV2(),\n",
    "            ]\n",
    "        )\n",
    "    else:\n",
    "        return A.Compose(\n",
    "            [\n",
    "                A.Resize(380, 380),\n",
    "                A.Normalize(mean=[0.485, 0.456, 0.406], std=[0.229, 0.224, 0.225]),\n",
    "                ToTensorV2(),\n",
    "            ]\n",
    "        )"
=======
   "outputs": [
    {
     "name": "stdout",
     "output_type": "stream",
     "text": [
      "3.5.3\n",
      "[('spark.app.name', 'Flick39k_PyTorch'), ('spark.driver.port', '46609'), ('spark.driver.extraJavaOptions', '-Djava.net.preferIPv6Addresses=false -XX:+IgnoreUnrecognizedVMOptions --add-opens=java.base/java.lang=ALL-UNNAMED --add-opens=java.base/java.lang.invoke=ALL-UNNAMED --add-opens=java.base/java.lang.reflect=ALL-UNNAMED --add-opens=java.base/java.io=ALL-UNNAMED --add-opens=java.base/java.net=ALL-UNNAMED --add-opens=java.base/java.nio=ALL-UNNAMED --add-opens=java.base/java.util=ALL-UNNAMED --add-opens=java.base/java.util.concurrent=ALL-UNNAMED --add-opens=java.base/java.util.concurrent.atomic=ALL-UNNAMED --add-opens=java.base/jdk.internal.ref=ALL-UNNAMED --add-opens=java.base/sun.nio.ch=ALL-UNNAMED --add-opens=java.base/sun.nio.cs=ALL-UNNAMED --add-opens=java.base/sun.security.action=ALL-UNNAMED --add-opens=java.base/sun.util.calendar=ALL-UNNAMED --add-opens=java.security.jgss/sun.security.krb5=ALL-UNNAMED -Djdk.reflect.useDirectMethodHandle=false'), ('spark.app.submitTime', '1729556534865'), ('spark.executor.id', 'driver'), ('spark.app.id', 'local-1729556536176'), ('spark.python.worker.memory', '16g'), ('spark.driver.memory', '16g'), ('spark.driver.host', '10.255.255.254'), ('spark.executor.cores', '4'), ('spark.executor.memory', '16g'), ('spark.app.startTime', '1729556535081'), ('spark.sql.warehouse.dir', 'file:/mnt/d/developer/Tec/concentracion/AI-datascience/big%20data/momento%20de%20retroalimentacion/big%20data/notebooks/spark-warehouse'), ('spark.rdd.compress', 'True'), ('spark.executor.extraJavaOptions', '-Djava.net.preferIPv6Addresses=false -XX:+IgnoreUnrecognizedVMOptions --add-opens=java.base/java.lang=ALL-UNNAMED --add-opens=java.base/java.lang.invoke=ALL-UNNAMED --add-opens=java.base/java.lang.reflect=ALL-UNNAMED --add-opens=java.base/java.io=ALL-UNNAMED --add-opens=java.base/java.net=ALL-UNNAMED --add-opens=java.base/java.nio=ALL-UNNAMED --add-opens=java.base/java.util=ALL-UNNAMED --add-opens=java.base/java.util.concurrent=ALL-UNNAMED --add-opens=java.base/java.util.concurrent.atomic=ALL-UNNAMED --add-opens=java.base/jdk.internal.ref=ALL-UNNAMED --add-opens=java.base/sun.nio.ch=ALL-UNNAMED --add-opens=java.base/sun.nio.cs=ALL-UNNAMED --add-opens=java.base/sun.security.action=ALL-UNNAMED --add-opens=java.base/sun.util.calendar=ALL-UNNAMED --add-opens=java.security.jgss/sun.security.krb5=ALL-UNNAMED -Djdk.reflect.useDirectMethodHandle=false'), ('spark.serializer.objectStreamReset', '100'), ('spark.driver.maxResultSize', '0'), ('spark.master', 'local[*]'), ('spark.submit.pyFiles', ''), ('spark.submit.deployMode', 'client'), ('spark.ui.showConsoleProgress', 'true')]\n"
     ]
    }
   ],
   "source": [
    "spark = create_spark_session()\n",
    "print(spark.version)\n",
    "print(spark.sparkContext.getConf().getAll())"
>>>>>>> 903b4933ba796469692fb0dfde1f6b8bb62ff174
   ]
  },
  {
   "cell_type": "code",
   "execution_count": 9,
   "metadata": {},
<<<<<<< HEAD
   "outputs": [],
   "source": [
    "def plot_training_history(history):\n",
    "    \"\"\"\n",
    "    Plot training and validation metrics\n",
    "    Args:\n",
    "        history: Dictionary containing training history with keys\n",
    "                'train_loss', 'val_loss', 'train_f1', 'val_f1'\n",
    "    \"\"\"\n",
    "    fig, (ax1, ax2) = plt.subplots(1, 2, figsize=(15, 5))\n",
    "    epochs = range(1, len(history[\"train_loss\"]) + 1)\n",
    "\n",
    "    ax1.plot(epochs, history[\"train_loss\"], \"b-\", label=\"Training Loss\", marker=\"o\")\n",
    "    ax1.plot(epochs, history[\"val_loss\"], \"r-\", label=\"Validation Loss\", marker=\"o\")\n",
    "    ax1.set_title(\"Training and Validation Loss\", pad=15)\n",
    "    ax1.set_xlabel(\"Epoch\")\n",
    "    ax1.set_ylabel(\"Loss\")\n",
    "    ax1.grid(True)\n",
    "    ax1.legend(loc=\"best\")\n",
    "\n",
    "    ax2.plot(epochs, history[\"train_f1\"], \"b-\", label=\"Training F1\", marker=\"o\")\n",
    "    ax2.plot(epochs, history[\"val_f1\"], \"r-\", label=\"Validation F1\", marker=\"o\")\n",
    "    ax2.set_title(\"Training and Validation F1 Score\", pad=15)\n",
    "    ax2.set_xlabel(\"Epoch\")\n",
    "    ax2.set_ylabel(\"F1 Score\")\n",
    "    ax2.grid(True)\n",
    "    ax2.legend(loc=\"best\")\n",
    "\n",
    "    for i, (train_f1, val_f1) in enumerate(zip(history[\"train_f1\"], history[\"val_f1\"])):\n",
    "        ax2.annotate(\n",
    "            f\"{train_f1:.3f}\",\n",
    "            (epochs[i], train_f1),\n",
    "            textcoords=\"offset points\",\n",
    "            xytext=(0, 10),\n",
    "            ha=\"center\",\n",
    "        )\n",
    "        ax2.annotate(\n",
    "            f\"{val_f1:.3f}\",\n",
    "            (epochs[i], val_f1),\n",
    "            textcoords=\"offset points\",\n",
    "            xytext=(0, -15),\n",
    "            ha=\"center\",\n",
    "        )\n",
    "\n",
    "    plt.tight_layout()\n",
    "    plt.savefig(\"training_history.png\", dpi=300, bbox_inches=\"tight\")\n",
    "    plt.show()\n",
    "    plt.close()"
=======
   "outputs": [
    {
     "name": "stderr",
     "output_type": "stream",
     "text": [
      "/home/carlos/miniconda3/envs/pytorch/lib/python3.11/site-packages/torchvision/models/_utils.py:208: UserWarning: The parameter 'pretrained' is deprecated since 0.13 and may be removed in the future, please use 'weights' instead.\n",
      "  warnings.warn(\n",
      "/home/carlos/miniconda3/envs/pytorch/lib/python3.11/site-packages/torchvision/models/_utils.py:223: UserWarning: Arguments other than a weight enum or `None` for 'weights' are deprecated since 0.13 and may be removed in the future. The current behavior is equivalent to passing `weights=ResNet50_Weights.IMAGENET1K_V1`. You can also use `weights=ResNet50_Weights.DEFAULT` to get the most up-to-date weights.\n",
      "  warnings.warn(msg)\n"
     ]
    }
   ],
   "source": [
    "model = ImageCaptionModel()"
>>>>>>> 903b4933ba796469692fb0dfde1f6b8bb62ff174
   ]
  },
  {
   "cell_type": "code",
   "execution_count": 10,
   "metadata": {},
   "outputs": [],
   "source": [
<<<<<<< HEAD
    "def prepare_data_from_directory(data_dir):\n",
    "    \"\"\"\n",
    "    Prepare data from directory structure where images are in class-specific folders\n",
    "    \"\"\"\n",
    "    image_paths, labels = [], []\n",
    "    class_to_idx = {\"non-dr\": 0, \"train_images\": 1}\n",
    "\n",
    "    for class_name, label in class_to_idx.items():\n",
    "        class_dir = os.path.join(data_dir, class_name)\n",
    "        if not os.path.exists(class_dir):\n",
    "            continue\n",
    "\n",
    "        for img_name in os.listdir(class_dir):\n",
    "            if img_name.lower().endswith((\".png\", \".jpg\", \".jpeg\")):\n",
    "                img_path = os.path.join(class_dir, img_name)\n",
    "                image_paths.append(img_path)\n",
    "                labels.append(label)\n",
    "\n",
    "    train_paths, val_paths, train_labels, val_labels = train_test_split(\n",
    "        image_paths, labels, test_size=0.2, random_state=42, stratify=labels\n",
    "    )\n",
    "\n",
    "    print(f\"Total images found: {len(image_paths)}\")\n",
    "    print(f\"Training images: {len(train_paths)}\")\n",
    "    print(f\"Validation images: {len(val_paths)}\")\n",
    "    print(\"\\nClass distribution:\")\n",
    "    for class_name, idx in class_to_idx.items():\n",
    "        count = labels.count(idx)\n",
    "        print(f\"{class_name}: {count} images ({count/len(labels)*100:.1f}%)\")\n",
    "\n",
    "    return train_paths, val_paths, train_labels, val_labels"
   ]
  },
  {
   "cell_type": "markdown",
   "metadata": {},
   "source": [
    "## Setting Up the Environment\n",
    "\n",
    "### Hyperparameters\n"
=======
    "trainer = SparkPyTorchTrainer(spark, model)"
>>>>>>> 903b4933ba796469692fb0dfde1f6b8bb62ff174
   ]
  },
  {
   "cell_type": "code",
<<<<<<< HEAD
   "execution_count": 11,
   "metadata": {},
   "outputs": [],
   "source": [
    "DATA_DIR = \"../data\"\n",
    "BATCH_SIZE = 16\n",
    "NUM_EPOCHS = 10\n",
    "LEARNING_RATE = 1e-4\n",
    "NUM_WORKERS = 4"
   ]
  },
  {
   "cell_type": "markdown",
   "metadata": {},
   "source": [
    "### CUDA Support Check\n"
=======
   "execution_count": null,
   "metadata": {},
   "outputs": [],
   "source": [
    "data_df = trainer.prepare_data(image_dir=\"../data/\", annotation_file=\"../data/\")"
>>>>>>> 903b4933ba796469692fb0dfde1f6b8bb62ff174
   ]
  },
  {
   "cell_type": "code",
<<<<<<< HEAD
   "execution_count": 12,
   "metadata": {},
   "outputs": [
    {
     "name": "stdout",
     "output_type": "stream",
     "text": [
      "GPU Information\n",
      "GPU Device: NVIDIA GeForce RTX 3060 Laptop GPU\n",
      "Total GPU Memory: 6.44 GB\n",
      "CUDA Version: 12.1\n"
     ]
    }
   ],
   "source": [
    "if torch.cuda.is_available():\n",
    "    print(\"GPU Information\")\n",
    "    print(f\"GPU Device: {torch.cuda.get_device_name(0)}\")\n",
    "    print(\n",
    "        f\"Total GPU Memory: {torch.cuda.get_device_properties(0).total_memory / 1e9:.2f} GB\"\n",
    "    )\n",
    "    print(f\"CUDA Version: {torch.version.cuda}\")\n",
    "\n",
    "    torch.cuda.empty_cache()\n",
    "    torch.backends.cudnn.benchmark = True\n",
    "    torch.backends.cudnn.deterministic = False"
   ]
  },
  {
   "cell_type": "markdown",
   "metadata": {},
   "source": [
    "### Train and Validation Split\n"
   ]
  },
  {
   "cell_type": "code",
   "execution_count": 13,
   "metadata": {},
   "outputs": [
    {
     "name": "stderr",
     "output_type": "stream",
     "text": [
      "your 131072x1 screen size is bogus. expect trouble\n"
     ]
    },
    {
     "name": "stderr",
     "output_type": "stream",
     "text": [
      "24/10/21 20:10:20 WARN Utils: Your hostname, CARLOSBLADE15 resolves to a loopback address: 127.0.1.1; using 10.255.255.254 instead (on interface lo)\n",
      "24/10/21 20:10:20 WARN Utils: Set SPARK_LOCAL_IP if you need to bind to another address\n",
      "Setting default log level to \"WARN\".\n",
      "To adjust logging level use sc.setLogLevel(newLevel). For SparkR, use setLogLevel(newLevel).\n",
      "24/10/21 20:10:21 WARN NativeCodeLoader: Unable to load native-hadoop library for your platform... using builtin-java classes where applicable\n"
     ]
    }
   ],
   "source": [
    "spark = initialize_spark()"
   ]
  },
  {
   "cell_type": "code",
   "execution_count": 14,
   "metadata": {},
   "outputs": [
    {
     "name": "stdout",
     "output_type": "stream",
     "text": [
      "\n",
      "Dataset Statistics:\n"
     ]
    },
    {
     "name": "stderr",
     "output_type": "stream",
     "text": [
      "                                                                                \r"
     ]
    },
    {
     "name": "stdout",
     "output_type": "stream",
     "text": [
      "Total images: 7585\n",
      "+-----+-----+\n",
      "|label|count|\n",
      "+-----+-----+\n",
      "|    0| 3923|\n",
      "|    1| 3662|\n",
      "+-----+-----+\n",
      "\n"
     ]
    }
   ],
   "source": [
    "spark_data = process_images_with_spark(DATA_DIR, spark)"
   ]
  },
  {
   "cell_type": "code",
   "execution_count": 15,
   "metadata": {},
   "outputs": [],
   "source": [
    "image_paths = [row.image_path for row in spark_data]\n",
    "labels = [row.label for row in spark_data]"
   ]
  },
  {
   "cell_type": "code",
   "execution_count": 16,
   "metadata": {},
   "outputs": [],
   "source": [
    "train_paths, val_paths, train_labels, val_labels = train_test_split(\n",
    "    image_paths, labels, test_size=0.2, random_state=42, stratify=labels\n",
    ")"
   ]
  },
  {
   "cell_type": "code",
   "execution_count": 17,
   "metadata": {},
   "outputs": [],
   "source": [
    "train_dataset = RetinalDataset(\n",
    "    train_paths, train_labels, transform=get_transforms(\"train\")\n",
    ")\n",
    "\n",
    "val_dataset = RetinalDataset(val_paths, val_labels, transform=get_transforms(\"val\"))"
   ]
  },
  {
   "cell_type": "code",
   "execution_count": 18,
   "metadata": {},
   "outputs": [],
   "source": [
    "train_loader = DataLoader(\n",
    "    train_dataset,\n",
    "    batch_size=BATCH_SIZE,\n",
    "    shuffle=True,\n",
    "    num_workers=NUM_WORKERS,\n",
    "    pin_memory=True,\n",
    "    persistent_workers=True,\n",
    "    prefetch_factor=2,\n",
    ")"
   ]
  },
  {
   "cell_type": "code",
   "execution_count": 19,
   "metadata": {},
   "outputs": [],
   "source": [
    "val_loader = DataLoader(\n",
    "    val_dataset,\n",
    "    batch_size=BATCH_SIZE,\n",
    "    shuffle=False,\n",
    "    num_workers=NUM_WORKERS,\n",
    "    pin_memory=True,\n",
    "    persistent_workers=True,\n",
    "    prefetch_factor=2,\n",
    ")"
   ]
  },
  {
   "cell_type": "markdown",
   "metadata": {},
   "source": [
    "### Model\n"
   ]
  },
  {
   "cell_type": "code",
   "execution_count": 20,
   "metadata": {},
   "outputs": [],
   "source": [
    "model = RetinalClassifier(learning_rate=LEARNING_RATE)"
   ]
  },
  {
   "cell_type": "code",
   "execution_count": 21,
   "metadata": {},
   "outputs": [
    {
     "name": "stderr",
     "output_type": "stream",
     "text": [
      "/home/carlos/miniconda3/envs/pytorch/lib/python3.11/site-packages/torch/optim/lr_scheduler.py:60: UserWarning: The verbose parameter is deprecated. Please use get_last_lr() to access the learning rate.\n",
      "  warnings.warn(\n"
     ]
    },
    {
     "name": "stdout",
     "output_type": "stream",
     "text": [
      "\n",
      "Epoch 1/10\n"
     ]
    },
    {
     "name": "stderr",
     "output_type": "stream",
     "text": [
      "Training: 100%|██████████| 380/380 [03:27<00:00,  1.83it/s, loss=0.0001, gpu_mem=0.31GB]\n",
      "Validation: 100%|██████████| 95/95 [00:31<00:00,  2.97it/s]\n"
     ]
    },
    {
     "name": "stdout",
     "output_type": "stream",
     "text": [
      "\n",
      "Training Loss: 0.0856\n",
      "Training F1: 0.9888\n",
      "Validation Loss: 0.0007\n",
      "Validation F1: 1.0000\n",
      "Saved new best model!\n",
      "\n",
      "Epoch 2/10\n"
     ]
    },
    {
     "name": "stderr",
     "output_type": "stream",
     "text": [
      "Training: 100%|██████████| 380/380 [02:30<00:00,  2.52it/s, loss=0.0002, gpu_mem=0.31GB]\n",
      "Validation: 100%|██████████| 95/95 [00:27<00:00,  3.50it/s]\n"
     ]
    },
    {
     "name": "stdout",
     "output_type": "stream",
     "text": [
      "\n",
      "Training Loss: 0.0026\n",
      "Training F1: 0.9995\n",
      "Validation Loss: 0.0001\n",
      "Validation F1: 1.0000\n",
      "\n",
      "Epoch 3/10\n"
     ]
    },
    {
     "name": "stderr",
     "output_type": "stream",
     "text": [
      "Training: 100%|██████████| 380/380 [02:31<00:00,  2.51it/s, loss=0.2930, gpu_mem=0.31GB]\n",
      "Validation: 100%|██████████| 95/95 [00:27<00:00,  3.49it/s]\n"
     ]
    },
    {
     "name": "stdout",
     "output_type": "stream",
     "text": [
      "\n",
      "Training Loss: 0.0014\n",
      "Training F1: 1.0000\n",
      "Validation Loss: 0.0004\n",
      "Validation F1: 1.0000\n",
      "\n",
      "Epoch 4/10\n"
     ]
    },
    {
     "name": "stderr",
     "output_type": "stream",
     "text": [
      "Training: 100%|██████████| 380/380 [02:19<00:00,  2.73it/s, loss=2.2710, gpu_mem=0.31GB]\n",
      "Validation: 100%|██████████| 95/95 [00:24<00:00,  3.96it/s]\n"
     ]
    },
    {
     "name": "stdout",
     "output_type": "stream",
     "text": [
      "\n",
      "Training Loss: 0.0067\n",
      "Training F1: 0.9997\n",
      "Validation Loss: 0.0000\n",
      "Validation F1: 1.0000\n",
      "\n",
      "Epoch 5/10\n"
     ]
    },
    {
     "name": "stderr",
     "output_type": "stream",
     "text": [
      "Training: 100%|██████████| 380/380 [02:06<00:00,  3.00it/s, loss=0.0000, gpu_mem=0.31GB]\n",
      "Validation: 100%|██████████| 95/95 [00:25<00:00,  3.76it/s]\n"
     ]
    },
    {
     "name": "stdout",
     "output_type": "stream",
     "text": [
      "\n",
      "Training Loss: 0.0003\n",
      "Training F1: 0.9998\n",
      "Validation Loss: 0.0000\n",
      "Validation F1: 1.0000\n",
      "\n",
      "Epoch 6/10\n"
     ]
    },
    {
     "name": "stderr",
     "output_type": "stream",
     "text": [
      "Training: 100%|██████████| 380/380 [02:06<00:00,  3.01it/s, loss=0.0000, gpu_mem=0.31GB]\n",
      "Validation: 100%|██████████| 95/95 [00:25<00:00,  3.69it/s]"
     ]
    },
    {
     "name": "stdout",
     "output_type": "stream",
     "text": [
      "\n",
      "Training Loss: 0.0003\n",
      "Training F1: 1.0000\n",
      "Validation Loss: 0.0000\n",
      "Validation F1: 1.0000\n",
      "Early stopping triggered!\n"
     ]
    },
    {
     "name": "stderr",
     "output_type": "stream",
     "text": [
      "\n"
     ]
    }
   ],
   "source": [
    "history = train(model, train_loader, val_loader, num_epochs=NUM_EPOCHS)"
   ]
  },
  {
   "cell_type": "code",
   "execution_count": 22,
   "metadata": {},
   "outputs": [
    {
     "data": {
      "image/png": "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",
      "text/plain": [
       "<Figure size 1500x500 with 2 Axes>"
      ]
     },
     "metadata": {},
     "output_type": "display_data"
    }
   ],
   "source": [
    "plot_training_history(history)"
=======
   "execution_count": null,
   "metadata": {},
   "outputs": [],
   "source": [
    "trainer.train(data_df)"
>>>>>>> 903b4933ba796469692fb0dfde1f6b8bb62ff174
   ]
  }
 ],
 "metadata": {
  "kernelspec": {
   "display_name": "pytorch",
   "language": "python",
   "name": "python3"
  },
  "language_info": {
   "codemirror_mode": {
    "name": "ipython",
    "version": 3
   },
   "file_extension": ".py",
   "mimetype": "text/x-python",
   "name": "python",
   "nbconvert_exporter": "python",
   "pygments_lexer": "ipython3",
   "version": "3.11.9"
  }
 },
 "nbformat": 4,
 "nbformat_minor": 2
}
